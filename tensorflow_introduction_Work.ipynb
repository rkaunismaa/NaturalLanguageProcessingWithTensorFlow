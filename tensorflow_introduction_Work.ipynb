{
 "cells": [
  {
   "cell_type": "code",
   "execution_count": 1,
   "metadata": {},
   "outputs": [],
   "source": [
    "# docker run --gpus all -it -v $(realpath ~/):/tf/All -v /home/rob/Data2:/home/rob/Data2 --env HF_DATASETS_CACHE=/home/rob/Data2/huggingface/datasets --env TRANSFORMERS_CACHE=/home/rob/Data2/huggingface/transformers -p 8888:8888 -p 6006:6006 d139afc9cfb2\n",
    "\n",
    "# 2nd run ...\n",
    "# Run Date: Thursday, January 19, 2023\n",
    "# Run Time: 00:00:34\n",
    "\n",
    "# First run ...\n",
    "# Run Date: Thursday, January 19, 2023\n",
    "# Run Time: 00:00:44"
   ]
  },
  {
   "cell_type": "code",
   "execution_count": 2,
   "metadata": {},
   "outputs": [],
   "source": [
    "import time\n",
    "from datetime import date\n",
    "\n",
    "startTime = time.time()\n",
    "todaysDate = date.today()"
   ]
  },
  {
   "cell_type": "code",
   "execution_count": 3,
   "metadata": {},
   "outputs": [],
   "source": [
    "# only target the 2070 Super ...\n",
    "import os\n",
    "os.environ[\"CUDA_VISIBLE_DEVICES\"]=\"0\""
   ]
  },
  {
   "cell_type": "markdown",
   "metadata": {},
   "source": [
    "# Chapter 2: Introduction to TensorFlow\n",
    "\n",
    "Here you can find all the exercises for the Chapter 2 of NLP with TensorFlow (2nd Edition). The 2nd edition is written using TensorFlow 2. There are quite a differences between TensorFlow 1 and Tensorflow 2.\n",
    "    \n",
    "## Differences between TensorFlow 1 and TensorFlow 2\n",
    "* There are no sessions in TensorFlow 2. You write a function with TensorFlow operations and you will be able to see the results immediately with Eager execution enabled.\n",
    "* Instead of creating large static dataflow graphs using tf operations, in TensorFlow 2, you can write atomic functions and decorate them with `tf.function()` to create the dataflow graph automatically.\n",
    "* TensorFlow 2 variables without a reference are garbage collected.\n",
    "* In TensorFlow 2, you can use `GradientTape` to record gradients required to optimize models.\n",
    "\n",
    "<table align=\"left\">\n",
    "    <td>\n",
    "        <a target=\"_blank\" href=\"https://colab.research.google.com/github/thushv89/packt_nlp_tensorflow_2/blob/master/Ch02-Understanding-TensorFlow/tensorflow_introduction.ipynb\"><img src=\"https://www.tensorflow.org/images/colab_logo_32px.png\" />Run in Google Colab</a>\n",
    "    </td>\n",
    "</table>"
   ]
  },
  {
   "cell_type": "markdown",
   "metadata": {},
   "source": [
    "## Importing Required Libraries"
   ]
  },
  {
   "cell_type": "code",
   "execution_count": 4,
   "metadata": {},
   "outputs": [
    {
     "name": "stderr",
     "output_type": "stream",
     "text": [
      "2023-01-19 12:44:50.080908: I tensorflow/core/platform/cpu_feature_guard.cc:193] This TensorFlow binary is optimized with oneAPI Deep Neural Network Library (oneDNN) to use the following CPU instructions in performance-critical operations:  AVX2 FMA\n",
      "To enable them in other operations, rebuild TensorFlow with the appropriate compiler flags.\n",
      "2023-01-19 12:44:50.675778: W tensorflow/compiler/xla/stream_executor/platform/default/dso_loader.cc:64] Could not load dynamic library 'libnvinfer.so.7'; dlerror: libnvinfer.so.7: cannot open shared object file: No such file or directory; LD_LIBRARY_PATH: /usr/local/nvidia/lib:/usr/local/nvidia/lib64\n",
      "2023-01-19 12:44:50.675839: W tensorflow/compiler/xla/stream_executor/platform/default/dso_loader.cc:64] Could not load dynamic library 'libnvinfer_plugin.so.7'; dlerror: libnvinfer_plugin.so.7: cannot open shared object file: No such file or directory; LD_LIBRARY_PATH: /usr/local/nvidia/lib:/usr/local/nvidia/lib64\n",
      "2023-01-19 12:44:50.675846: W tensorflow/compiler/tf2tensorrt/utils/py_utils.cc:38] TF-TRT Warning: Cannot dlopen some TensorRT libraries. If you would like to use Nvidia GPU with TensorRT, please make sure the missing libraries mentioned above are installed properly.\n"
     ]
    },
    {
     "name": "stdout",
     "output_type": "stream",
     "text": [
      "TensorFlow version => 2.11.0\n"
     ]
    },
    {
     "name": "stderr",
     "output_type": "stream",
     "text": [
      "2023-01-19 12:44:51.437674: I tensorflow/compiler/xla/stream_executor/cuda/cuda_gpu_executor.cc:981] successful NUMA node read from SysFS had negative value (-1), but there must be at least one NUMA node, so returning NUMA node zero\n",
      "2023-01-19 12:44:51.441809: I tensorflow/compiler/xla/stream_executor/cuda/cuda_gpu_executor.cc:981] successful NUMA node read from SysFS had negative value (-1), but there must be at least one NUMA node, so returning NUMA node zero\n",
      "2023-01-19 12:44:51.441969: I tensorflow/compiler/xla/stream_executor/cuda/cuda_gpu_executor.cc:981] successful NUMA node read from SysFS had negative value (-1), but there must be at least one NUMA node, so returning NUMA node zero\n"
     ]
    }
   ],
   "source": [
    "import tensorflow as tf\n",
    "import tensorflow.keras.backend as K\n",
    "# Making sure we have the correct TF version\n",
    "print(f\"TensorFlow version => {tf.__version__}\")\n",
    "\n",
    "gpus = tf.config.experimental.list_physical_devices('GPU')\n",
    "if gpus:\n",
    "    try:\n",
    "        # Currently, memory growth needs to be the same across GPUs\n",
    "        for gpu in gpus:\n",
    "            tf.config.experimental.set_memory_growth(gpu, True)\n",
    "    except Exception as ex:        \n",
    "        print(\"Couldn't set memory_growth\")\n",
    "        pass\n",
    "    \n",
    "import numpy as np\n",
    "import os\n",
    "import matplotlib.pyplot as plt\n",
    "# Config the matplotlib backend as plotting inline in IPython\n",
    "%matplotlib inline"
   ]
  },
  {
   "cell_type": "markdown",
   "metadata": {},
   "source": [
    "## Sigmoid Example - Feeding inputs as a NumPy array\n",
    "Here we calculate the sigmoid example by feeding in inputs as a NumPy array. \n",
    "\n",
    "---\n",
    "*TensorFlow computational graph for the Sigmoid computation*\n",
    "\n",
    "![Sigmoid computational graph](notebook_images/02_01.png)\n",
    "\n",
    "---\n",
    "*Difference between Sigmoid and ReLU activations*\n",
    "![Sigmoid computational graph](notebook_images/02_06.png)"
   ]
  },
  {
   "cell_type": "code",
   "execution_count": 5,
   "metadata": {},
   "outputs": [
    {
     "name": "stderr",
     "output_type": "stream",
     "text": [
      "2023-01-19 12:44:51.717577: I tensorflow/core/platform/cpu_feature_guard.cc:193] This TensorFlow binary is optimized with oneAPI Deep Neural Network Library (oneDNN) to use the following CPU instructions in performance-critical operations:  AVX2 FMA\n",
      "To enable them in other operations, rebuild TensorFlow with the appropriate compiler flags.\n",
      "2023-01-19 12:44:51.718010: I tensorflow/compiler/xla/stream_executor/cuda/cuda_gpu_executor.cc:981] successful NUMA node read from SysFS had negative value (-1), but there must be at least one NUMA node, so returning NUMA node zero\n",
      "2023-01-19 12:44:51.718247: I tensorflow/compiler/xla/stream_executor/cuda/cuda_gpu_executor.cc:981] successful NUMA node read from SysFS had negative value (-1), but there must be at least one NUMA node, so returning NUMA node zero\n",
      "2023-01-19 12:44:51.718388: I tensorflow/compiler/xla/stream_executor/cuda/cuda_gpu_executor.cc:981] successful NUMA node read from SysFS had negative value (-1), but there must be at least one NUMA node, so returning NUMA node zero\n",
      "2023-01-19 12:44:52.141363: I tensorflow/compiler/xla/stream_executor/cuda/cuda_gpu_executor.cc:981] successful NUMA node read from SysFS had negative value (-1), but there must be at least one NUMA node, so returning NUMA node zero\n",
      "2023-01-19 12:44:52.141540: I tensorflow/compiler/xla/stream_executor/cuda/cuda_gpu_executor.cc:981] successful NUMA node read from SysFS had negative value (-1), but there must be at least one NUMA node, so returning NUMA node zero\n",
      "2023-01-19 12:44:52.141680: I tensorflow/compiler/xla/stream_executor/cuda/cuda_gpu_executor.cc:981] successful NUMA node read from SysFS had negative value (-1), but there must be at least one NUMA node, so returning NUMA node zero\n",
      "2023-01-19 12:44:52.141801: I tensorflow/core/common_runtime/gpu/gpu_device.cc:1613] Created device /job:localhost/replica:0/task:0/device:GPU:0 with 6647 MB memory:  -> device: 0, name: NVIDIA GeForce RTX 2070 SUPER, pci bus id: 0000:02:00.0, compute capability: 7.5\n"
     ]
    },
    {
     "name": "stdout",
     "output_type": "stream",
     "text": [
      "h = [[0.5111289  0.48992527 0.5087734  0.4918073  0.4739512 ]]\n"
     ]
    }
   ],
   "source": [
    "@tf.function\n",
    "def layer(x, W, b):    \n",
    "    # Building the graph\n",
    "    h = tf.nn.sigmoid(tf.matmul(x,W) + b) # Operation to be performed\n",
    "    return h\n",
    "\n",
    "x = np.array([[0, 0.1, 0.2, 0.3, 0.4, 0.5, 0.6, 0.7, 0.8, 0.9]], dtype=np.float32) \n",
    "\n",
    "# Variable\n",
    "init_w = tf.initializers.RandomUniform(minval=-0.1, maxval=0.1)(shape=[10,5])\n",
    "W = tf.Variable(init_w, dtype=tf.float32, name='W') \n",
    "# Variable\n",
    "init_b = tf.initializers.RandomUniform()(shape=[5])\n",
    "b = tf.Variable(init_b, dtype=tf.float32, name='b') \n",
    "\n",
    "h = layer(x,W,b)\n",
    "print(f\"h = {h}\")"
   ]
  },
  {
   "cell_type": "markdown",
   "metadata": {},
   "source": [
    "## Feeding inputs as Tensorflow tensors\n",
    "\n",
    "Now we make the same calculations with the input as an immutable tensor"
   ]
  },
  {
   "cell_type": "code",
   "execution_count": 6,
   "metadata": {},
   "outputs": [
    {
     "name": "stdout",
     "output_type": "stream",
     "text": [
      "h = [[0.49069834 0.5340411  0.45983914 0.48502645 0.50443697]]\n",
      "h is of type <class 'tensorflow.python.framework.ops.EagerTensor'>\n"
     ]
    }
   ],
   "source": [
    "@tf.function\n",
    "def layer(x, W, b):    \n",
    "    # Building the graph\n",
    "    h = tf.nn.sigmoid(tf.matmul(x,W) + b) # Operation to be performed\n",
    "    return h\n",
    "\n",
    "# Building the graph\n",
    "\n",
    "# A pre-loaded input\n",
    "x = tf.constant(value=[[0,0.1,0.2,0.3,0.4,0.5,0.6,0.7,0.8,0.9]],dtype=tf.float32,name='x') \n",
    "\n",
    "# Variable\n",
    "init_w = tf.initializers.RandomUniform(minval=-0.1, maxval=0.1)(shape=[10,5])\n",
    "W = tf.Variable(init_w, dtype=tf.float32, name='W') \n",
    "# Variable\n",
    "init_b = tf.initializers.RandomUniform()(shape=[5])\n",
    "b = tf.Variable(init_b, dtype=tf.float32, name='b') \n",
    "\n",
    "h = layer(x,W,b)\n",
    "print(f\"h = {h}\")\n",
    "print(f\"h is of type {type(h)}\")"
   ]
  },
  {
   "cell_type": "markdown",
   "metadata": {},
   "source": [
    "## `tf.data` API\n",
    "We now create a data pipleline to read inputs. Data pipeline is an efficient way of reading data when you have to read lots of data stored externally. Here you will be using several text files containing data from the famous Iris dataset, which as various atrributes of several flowers. However some of this data has been corrupted, resulting in negative values. We will write an input pipeline which will read the data from the file, and then print out the corrupted data rows."
   ]
  },
  {
   "cell_type": "code",
   "execution_count": 7,
   "metadata": {},
   "outputs": [
    {
     "name": "stdout",
     "output_type": "stream",
     "text": [
      "WARNING:tensorflow:From /usr/local/lib/python3.8/dist-packages/tensorflow/python/autograph/pyct/static_analysis/liveness.py:83: Analyzer.lamba_check (from tensorflow.python.autograph.pyct.static_analysis.liveness) is deprecated and will be removed after 2023-09-23.\n",
      "Instructions for updating:\n",
      "Lambda fuctions will be no more assumed to be used in the statement where they are used, or at least in the same block. https://github.com/tensorflow/tensorflow/issues/56089\n",
      "(corrupted) X => [ 5.8 -4.   1.2  0.2]\tY => Iris-setosa\n",
      "(corrupted) X => [ 4.6  3.6 -1.   0.2]\tY => Iris-setosa\n",
      "(corrupted) X => [ 4.7 -3.2  1.6  0.2]\tY => Iris-setosa\n",
      "(corrupted) X => [-5.   3.5  1.3  0.3]\tY => Iris-setosa\n",
      "(corrupted) X => [-5.1  3.8  1.6  0.2]\tY => Iris-setosa\n",
      "(corrupted) X => [ 6.9 -3.1  4.9  1.5]\tY => Iris-versicolor\n",
      "(corrupted) X => [-5.2  2.7  3.9  1.4]\tY => Iris-versicolor\n",
      "(corrupted) X => [ 5.8  2.7  4.1 -1. ]\tY => Iris-versicolor\n",
      "(corrupted) X => [ 6.1 -2.8  4.7  1.2]\tY => Iris-versicolor\n",
      "(corrupted) X => [ 5.4  3.  -4.5  1.5]\tY => Iris-versicolor\n",
      "(corrupted) X => [ 7.1 -3.   5.9  2.1]\tY => Iris-virginica\n",
      "(corrupted) X => [ 5.7  2.5  5.  -2. ]\tY => Iris-virginica\n",
      "(corrupted) X => [-6.   2.2  5.   1.5]\tY => Iris-virginica\n",
      "(corrupted) X => [ 7.2 -3.2  6.   1.8]\tY => Iris-virginica\n",
      "(corrupted) X => [ 6.1  2.6  5.6 -1.4]\tY => Iris-virginica\n"
     ]
    }
   ],
   "source": [
    "# The filename queue\n",
    "filenames = [f\"./iris.data.{i}\" for i in range(1,4)]\n",
    "\n",
    "# Defining a dataset object that accepts CSV type data\n",
    "dataset = tf.data.experimental.CsvDataset(\n",
    "    filenames, [tf.float32, tf.float32, tf.float32, tf.float32, tf.string])\n",
    "\n",
    "# First 4 columns in the CSV file are input features where the last is class label\n",
    "# tf.stack() combines the individual features to a single tensor\n",
    "dataset = dataset.map(lambda x1,x2,x3,x4,y: (tf.stack([x1,x2,x3,x4]), y))\n",
    "\n",
    "# Iterating through the dataset\n",
    "for next_element in dataset:\n",
    "    x, y = next_element[0].numpy(), next_element[1].numpy().decode('ascii')\n",
    "    if np.min(x)<0.0:\n",
    "        print(f\"(corrupted) X => {x}\\tY => {y}\")\n",
    "    "
   ]
  },
  {
   "cell_type": "markdown",
   "metadata": {},
   "source": [
    "## Filtering all the corrupted rows\n",
    "\n",
    "Here we will use the `dataset.filter()` function to filter out any corrupted inputs. Corrupted inputs in this case are dected by checking if the minimum value of each row is less than zero."
   ]
  },
  {
   "cell_type": "code",
   "execution_count": 8,
   "metadata": {},
   "outputs": [
    {
     "name": "stdout",
     "output_type": "stream",
     "text": [
      "No corrupted items detected\n"
     ]
    }
   ],
   "source": [
    "# Filtering data with a negative value in one of the X columns\n",
    "dataset = dataset.filter(lambda x,y: tf.reduce_min(x)>0)\n",
    "\n",
    "# Iterating the dataset\n",
    "no_corrupt = True\n",
    "for next_element in dataset:\n",
    "    x, y = next_element[0].numpy(), next_element[1].numpy()\n",
    "    if np.any(x<0.0):\n",
    "        print(\"Aha! Detected a corrupted item: \", next_element[0].numpy())\n",
    "        no_corrupt = False\n",
    "\n",
    "if no_corrupt:\n",
    "    print(\"No corrupted items detected\")\n"
   ]
  },
  {
   "cell_type": "markdown",
   "metadata": {},
   "source": [
    "## Iterating the dataset in batches\n",
    "\n",
    "One of the most common behaviors when training a model is to iterate through the dataset in batches, while training or predicting using a model. The `dataset.batch()` function provides a convenient way to do so. Here you can see that we are using a batch_size of 5 and getting 5 rows of data at a time during iterations."
   ]
  },
  {
   "cell_type": "code",
   "execution_count": 9,
   "metadata": {},
   "outputs": [
    {
     "name": "stdout",
     "output_type": "stream",
     "text": [
      "x.shape = (5, 4), y.shape = (5,)\n",
      "x.shape = (5, 4), y.shape = (5,)\n",
      "x.shape = (5, 4), y.shape = (5,)\n",
      "x.shape = (5, 4), y.shape = (5,)\n",
      "x.shape = (5, 4), y.shape = (5,)\n",
      "x.shape = (5, 4), y.shape = (5,)\n",
      "x.shape = (5, 4), y.shape = (5,)\n",
      "x.shape = (5, 4), y.shape = (5,)\n",
      "x.shape = (5, 4), y.shape = (5,)\n",
      "x.shape = (5, 4), y.shape = (5,)\n",
      "x.shape = (5, 4), y.shape = (5,)\n",
      "x.shape = (5, 4), y.shape = (5,)\n",
      "x.shape = (5, 4), y.shape = (5,)\n",
      "x.shape = (5, 4), y.shape = (5,)\n",
      "x.shape = (5, 4), y.shape = (5,)\n",
      "x.shape = (5, 4), y.shape = (5,)\n",
      "x.shape = (5, 4), y.shape = (5,)\n",
      "x.shape = (5, 4), y.shape = (5,)\n",
      "x.shape = (5, 4), y.shape = (5,)\n",
      "x.shape = (5, 4), y.shape = (5,)\n",
      "x.shape = (5, 4), y.shape = (5,)\n",
      "x.shape = (5, 4), y.shape = (5,)\n",
      "x.shape = (5, 4), y.shape = (5,)\n",
      "x.shape = (5, 4), y.shape = (5,)\n",
      "x.shape = (5, 4), y.shape = (5,)\n",
      "x.shape = (5, 4), y.shape = (5,)\n",
      "x.shape = (5, 4), y.shape = (5,)\n",
      "x.shape = (1, 4), y.shape = (1,)\n"
     ]
    }
   ],
   "source": [
    "# Creating batches of 5\n",
    "batch_size = 5\n",
    "dataset = dataset.batch(batch_size=batch_size)\n",
    "\n",
    "for next_element in dataset:\n",
    "    x, y = next_element[0].numpy(), next_element[1].numpy()    \n",
    "    print(f\"x.shape = {x.shape}, y.shape = {y.shape}\")"
   ]
  },
  {
   "cell_type": "markdown",
   "metadata": {},
   "source": [
    "## Bonus: Converting class labels to class IDs\n",
    "\n",
    "You have seen that, `y` here in fact is a string. However we need to convert this to a class ID (or an Integer) in order to use `y` to train a model. For that you can create a lookup table using the `tf.lookup.StaticVocabularyTable` object."
   ]
  },
  {
   "cell_type": "code",
   "execution_count": 10,
   "metadata": {},
   "outputs": [
    {
     "name": "stdout",
     "output_type": "stream",
     "text": [
      "(corrupted) X => [ 5.8 -4.   1.2  0.2]\tY => 0\n",
      "(corrupted) X => [ 4.6  3.6 -1.   0.2]\tY => 0\n",
      "(corrupted) X => [ 4.7 -3.2  1.6  0.2]\tY => 0\n",
      "(corrupted) X => [-5.   3.5  1.3  0.3]\tY => 0\n",
      "(corrupted) X => [-5.1  3.8  1.6  0.2]\tY => 0\n",
      "(corrupted) X => [ 6.9 -3.1  4.9  1.5]\tY => 1\n",
      "(corrupted) X => [-5.2  2.7  3.9  1.4]\tY => 1\n",
      "(corrupted) X => [ 5.8  2.7  4.1 -1. ]\tY => 1\n",
      "(corrupted) X => [ 6.1 -2.8  4.7  1.2]\tY => 1\n",
      "(corrupted) X => [ 5.4  3.  -4.5  1.5]\tY => 1\n",
      "(corrupted) X => [ 7.1 -3.   5.9  2.1]\tY => 2\n",
      "(corrupted) X => [ 5.7  2.5  5.  -2. ]\tY => 2\n",
      "(corrupted) X => [-6.   2.2  5.   1.5]\tY => 2\n",
      "(corrupted) X => [ 7.2 -3.2  6.   1.8]\tY => 2\n",
      "(corrupted) X => [ 6.1  2.6  5.6 -1.4]\tY => 2\n"
     ]
    }
   ],
   "source": [
    "# The filename queue\n",
    "filenames = [f\"./iris.data.{i}\" for i in range(1,4)]\n",
    "\n",
    "# Defining a dataset object that accepts CSV type data\n",
    "dataset = tf.data.experimental.CsvDataset(\n",
    "    filenames, [tf.float32, tf.float32, tf.float32, tf.float32, tf.string])\n",
    "\n",
    "# X will be the first 4 columns in the CSV file\n",
    "x_dataset = dataset.map(lambda x1,x2,x3,x4,y: (x1,x2,x3,x4))\n",
    "\n",
    "# Converting the string label to an integer\n",
    "table = tf.lookup.StaticVocabularyTable(\n",
    "    tf.lookup.KeyValueTensorInitializer(\n",
    "        [b'Iris-setosa', b'Iris-versicolor', b'Iris-virginica'],\n",
    "        tf.constant([0,1,2], dtype=tf.int64)),\n",
    "    num_oov_buckets=1\n",
    ")\n",
    "\n",
    "# Creating the Y dataset as class labels\n",
    "y_dataset = dataset.map(lambda x1,x2,x3,x4,y: table.lookup(y))\n",
    "\n",
    "# Combining the X and Y datasets\n",
    "dataset = dataset.zip((x_dataset,y_dataset))\n",
    "# Columns of x are shown as a list of tensors, \n",
    "# instead we would like to have a single tensor with all columns\n",
    "dataset = dataset.map(lambda x,y: (tf.stack(x),y))\n",
    "\n",
    "for next_element in dataset:\n",
    "    x, y = next_element[0].numpy(), next_element[1].numpy()\n",
    "    if np.min(x)<0.0:\n",
    "        print(f\"(corrupted) X => {x}\\tY => {y}\")"
   ]
  },
  {
   "cell_type": "markdown",
   "metadata": {},
   "source": [
    "## Comparison Operators\n",
    "\n",
    "Here we discuss some operators that allows us to compare two tensors element-wise"
   ]
  },
  {
   "cell_type": "code",
   "execution_count": 11,
   "metadata": {},
   "outputs": [
    {
     "name": "stdout",
     "output_type": "stream",
     "text": [
      "Is X == Y (element-wise)?\n",
      "[[False False]\n",
      " [ True False]]\n",
      "\n",
      "Is X < Y (element-wise)?\n",
      "[[ True  True]\n",
      " [False False]]\n",
      "\n",
      "Is X >= Y (element-wise)?\n",
      "[[False False]\n",
      " [ True  True]]\n",
      "\n",
      "X or Y depending on the condition (element-wise)\n",
      "[[1 3]\n",
      " [3 2]]\n"
     ]
    }
   ],
   "source": [
    "# Let's assume the following values for x and y\n",
    "# x (2-D tensor) => [[1,2],[3,4]]\n",
    "# y (2-D tensor) => [[4,3],[3,2]]\n",
    "x = tf.constant([[1,2],[3,4]], dtype=tf.int32)\n",
    "y = tf.constant([[4,3],[3,2]], dtype=tf.int32)\n",
    "\n",
    "# Checks if two tensors are equal element-wise and returns a boolean tensor\n",
    "# x_equal_y => [[False,False],[True,False]]\n",
    "x_equal_y = tf.equal(x, y, name=None) \n",
    "\n",
    "# Checks if x is less than y element-wise and returns a boolean tensor\n",
    "# x_less_y => [[True,True],[True,False]]\n",
    "x_less_y = tf.less(x, y, name=None) \n",
    "\n",
    "# Checks if x is greater or equal than y element-wise and returns a boolean tensor\n",
    "# x_great_equal_y => [[False,False],[True,True]]\n",
    "x_great_equal_y = tf.greater_equal(x, y, name=None) \n",
    "\n",
    "# Selects elements from x and y depending on whether,\n",
    "# the condition is satisfied (select elements from x)\n",
    "# or the condition failed (select elements from y)\n",
    "condition = tf.constant([[True,False],[True,False]],dtype=tf.bool)\n",
    "# x_cond_y => [[1,3],[3,2]]\n",
    "x_cond_y = tf.where(condition, x, y, name=None) \n",
    "\n",
    "print('Is X == Y (element-wise)?')\n",
    "print(x_equal_y.numpy())\n",
    "\n",
    "print('\\nIs X < Y (element-wise)?')\n",
    "print(x_less_y.numpy())\n",
    "\n",
    "print('\\nIs X >= Y (element-wise)?')\n",
    "print(x_great_equal_y.numpy())\n",
    "\n",
    "print('\\nX or Y depending on the condition (element-wise)')\n",
    "print(x_cond_y.numpy())\n"
   ]
  },
  {
   "cell_type": "markdown",
   "metadata": {},
   "source": [
    "## Mathematical Operations\n",
    "Here we perform several mathematical opeartions you are often comfortable with"
   ]
  },
  {
   "cell_type": "code",
   "execution_count": 12,
   "metadata": {},
   "outputs": [
    {
     "name": "stdout",
     "output_type": "stream",
     "text": [
      "X + Y\n",
      "[[5. 5.]\n",
      " [6. 6.]]\n",
      "\n",
      " XY\n",
      "[[10.  7.]\n",
      " [24. 17.]]\n",
      "\n",
      " log(x)\n",
      "[[0.        0.6931472]\n",
      " [1.0986123 1.3862944]]\n",
      "\n",
      " X sum over axis 1\n",
      "[3. 7.]\n",
      "\n",
      " X sum over axis 0\n",
      "[[4. 6.]]\n",
      "\n",
      " Segemented sum of a vector\n",
      "[ 6.  9. 40.]\n"
     ]
    }
   ],
   "source": [
    "# Let's assume the following values for x and y\n",
    "# x (2-D tensor) => [[1,2],[3,4]]\n",
    "# y (2-D tensor) => [[4,3],[3,2]]\n",
    "x = tf.constant([[1,2],[3,4]], dtype=tf.float32)\n",
    "y = tf.constant([[4,3],[3,2]], dtype=tf.float32)\n",
    "\n",
    "# Add two tensors x and y in an element-wise fashion\n",
    "# x_add_y => [[5,5],[6,6]]\n",
    "x_add_y_1 = tf.add(x, y) \n",
    "x_add_y_2 = x + y\n",
    "\n",
    "# Performs matrix multiplication (not element-wise)\n",
    "# x_mul_y => [[10,7],[24,17]]\n",
    "x_mul_y = tf.matmul(x, y) \n",
    "\n",
    "# Compute natural logarithm of x element-wise\n",
    "# equivalent to computing ln(x)\n",
    "# log_x => [[0,0.6931],[1.0986,1.3863]]\n",
    "log_x = tf.math.log(x) \n",
    "\n",
    "# Performs reduction operation across the specified axis\n",
    "# x_sum_1 => [3,7]\n",
    "x_sum_1 = tf.reduce_sum(x, axis=[1], keepdims=False)\n",
    "\n",
    "# x_sum_2 => [[4],[6]]\n",
    "x_sum_2 = tf.reduce_sum(x, axis=[0], keepdims=True) \n",
    "\n",
    "# Segments the tensor according to segment_ids (items with same id in\n",
    "# the same segment) and computes a segmented sum of the data\n",
    "\n",
    "data = tf.constant([1,2,3,4,5,6,7,8,9,10], dtype=tf.float32)\n",
    "segment_ids = tf.constant([0,0,0,1,1,2,2,2,2,2 ], dtype=tf.int32)\n",
    "# x_seg_sum => [6,9,40]\n",
    "x_seg_sum = tf.math.segment_sum(data, segment_ids) \n",
    "\n",
    "print('X + Y')\n",
    "print(x_add_y_1.numpy())\n",
    "print('\\n XY')\n",
    "print(x_mul_y.numpy())\n",
    "print('\\n log(x)')\n",
    "print(log_x.numpy())\n",
    "print('\\n X sum over axis 1')\n",
    "print(x_sum_1.numpy())\n",
    "print('\\n X sum over axis 0')\n",
    "print(x_sum_2.numpy())\n",
    "print('\\n Segemented sum of a vector')\n",
    "print(x_seg_sum.numpy())"
   ]
  },
  {
   "cell_type": "markdown",
   "metadata": {},
   "source": [
    "## Scatter operation\n",
    "Scatter operation refers to using indexing or slicing to change the values in a tensor."
   ]
  },
  {
   "cell_type": "code",
   "execution_count": 13,
   "metadata": {},
   "outputs": [
    {
     "name": "stdout",
     "output_type": "stream",
     "text": [
      "\n",
      "ref (after changing row=0)\n",
      " <tf.Variable 'ref:0' shape=(3, 2) dtype=float32, numpy=\n",
      "array([[-1., -9.],\n",
      "       [ 3., 10.],\n",
      "       [ 5., 11.]], dtype=float32)>\n",
      "\n",
      "ref (after changing row=1, col=1)\n",
      " <tf.Variable 'ref:0' shape=(3, 2) dtype=float32, numpy=\n",
      "array([[  1.,   9.],\n",
      "       [  3., -10.],\n",
      "       [  5.,  11.]], dtype=float32)>\n",
      "\n",
      "ref (after changing row=1:, col=0)\n",
      " <tf.Variable 'ref:0' shape=(3, 2) dtype=float32, numpy=\n",
      "array([[ 1.,  9.],\n",
      "       [-3., 10.],\n",
      "       [-5., 11.]], dtype=float32)>\n"
     ]
    }
   ],
   "source": [
    "v = tf.Variable(tf.constant([[1,9],[3,10],[5,11]],dtype=tf.float32),name='ref')\n",
    "# Changing the 0th row in v\n",
    "v[0].assign([-1, -9])\n",
    "print('\\nref (after changing row=0)\\n', v)\n",
    "\n",
    "v = tf.Variable(tf.constant([[1,9],[3,10],[5,11]],dtype=tf.float32),name='ref')\n",
    "# Changing the value at 1st row, 1st column in v\n",
    "v[1,1].assign(-10)\n",
    "print('\\nref (after changing row=1, col=1)\\n', v)\n",
    "\n",
    "v = tf.Variable(tf.constant([[1,9],[3,10],[5,11]],dtype=tf.float32),name='ref')\n",
    "# Changing the values of rows starting from 1st to end in 0th column of v\n",
    "v[1:,0].assign([-3,-5])\n",
    "print('\\nref (after changing row=1:, col=0)\\n', v)"
   ]
  },
  {
   "cell_type": "markdown",
   "metadata": {},
   "source": [
    "## Gather operation\n",
    "\n",
    "Gather operation refers to using indexing or slicing to retrieve values in a tensor."
   ]
  },
  {
   "cell_type": "code",
   "execution_count": 14,
   "metadata": {},
   "outputs": [
    {
     "name": "stdout",
     "output_type": "stream",
     "text": [
      "t[0] = [1. 9.]\n",
      "t[1,1] = 10.0\n",
      "t[1:,0] = [3. 5.]\n"
     ]
    }
   ],
   "source": [
    "t = tf.constant([[1,9],[3,10],[5,11]],dtype=tf.float32)\n",
    "# Getting the 0th row in v\n",
    "print('t[0] =',t[0].numpy())\n",
    "# Getting the value at 1st row, 1st column in v\n",
    "print('t[1,1] =',t[1,1].numpy())\n",
    "# Getting the values of rows starting from 1st to end in 0th column of v\n",
    "print('t[1:,0] =',t[1:,0].numpy())"
   ]
  },
  {
   "cell_type": "markdown",
   "metadata": {},
   "source": [
    "## 2-Dimensional Operations (2D Convolution and 2D Max pooling)\n",
    "2D Convolution and Max pooling are two operation you perform on a tensor over the width and height axes. These operations are often used in convolution neural networks.\n",
    "\n",
    "---\n",
    "*Convolution operation*\n",
    "\n",
    "![Convolution operation](notebook_images/02_08.png)\n",
    "\n",
    "---\n",
    "*Max pool operation*\n",
    "\n",
    "![Max pool operation](notebook_images/02_09.png)"
   ]
  },
  {
   "cell_type": "code",
   "execution_count": 15,
   "metadata": {},
   "outputs": [
    {
     "name": "stderr",
     "output_type": "stream",
     "text": [
      "2023-01-19 12:44:53.159936: I tensorflow/compiler/xla/stream_executor/cuda/cuda_dnn.cc:428] Loaded cuDNN version 8101\n"
     ]
    },
    {
     "name": "stdout",
     "output_type": "stream",
     "text": [
      "\n",
      "2-D Convolution operation\n",
      "[[[[ 7.5]\n",
      "   [ 7.5]\n",
      "   [ 7.5]]\n",
      "\n",
      "  [[13.5]\n",
      "   [13.5]\n",
      "   [13.5]]\n",
      "\n",
      "  [[19.5]\n",
      "   [19.5]\n",
      "   [19.5]]]]\n",
      "\n",
      "Max pooling operation\n",
      "[[[[4.]\n",
      "   [4.]]\n",
      "\n",
      "  [[8.]\n",
      "   [8.]]]]\n"
     ]
    }
   ],
   "source": [
    "x = tf.constant(\n",
    "    [[\n",
    "        [[1],[2],[3],[4]],\n",
    "        [[4],[3],[2],[1]],\n",
    "        [[5],[6],[7],[8]],\n",
    "        [[8],[7],[6],[5]]\n",
    "    ]],\n",
    "    dtype=tf.float32)\n",
    "\n",
    "x_filter = tf.constant(\n",
    "    [\n",
    "        [\n",
    "            [[0.5]],[[1]]\n",
    "        ],\n",
    "        [\n",
    "            [[0.5]],[[1]]\n",
    "        ]\n",
    "    ],\n",
    "    dtype=tf.float32)\n",
    "\n",
    "x_stride = [1,1,1,1]\n",
    "x_padding = 'VALID'\n",
    "\n",
    "x_conv = tf.nn.conv2d(\n",
    "    input=x, filters=x_filter,\n",
    "    strides=x_stride, padding=x_padding\n",
    ")\n",
    "\n",
    "print('\\n2-D Convolution operation')\n",
    "print(x_conv.numpy())\n",
    "\n",
    "x = tf.constant(\n",
    "    [[\n",
    "        [[1],[2],[3],[4]],\n",
    "        [[4],[3],[2],[1]],\n",
    "        [[5],[6],[7],[8]],\n",
    "        [[8],[7],[6],[5]]\n",
    "    ]],\n",
    "    dtype=tf.float32)\n",
    "\n",
    "x_ksize = [1,2,2,1]\n",
    "x_stride = [1,2,2,1]\n",
    "x_padding = 'VALID'\n",
    "\n",
    "x_pool = tf.nn.max_pool2d(\n",
    "    input=x, ksize=x_ksize,\n",
    "    strides=x_stride, padding=x_padding\n",
    ")\n",
    "\n",
    "print('\\nMax pooling operation')\n",
    "print(x_pool.numpy())"
   ]
  },
  {
   "cell_type": "markdown",
   "metadata": {},
   "source": [
    "## Loss Functions\n",
    "Here we define several well-known loss functions that are commonly used in optimizing neural networks.\n",
    "1. Mean Squared Error (MSE)\n",
    " * $MSE = (1/N)\\sum_{i=1}^{N} {(x_i-\\hat{x}_i)}^2$\n",
    " \n",
    "2. Cross Entropy Loss (CE)\n",
    " * $CE = -(1/N)\\sum_{i=1}^{N}y_ilog(\\hat{y}_i) + (1-y_i)log(1-\\hat{y}_i)$"
   ]
  },
  {
   "cell_type": "code",
   "execution_count": 16,
   "metadata": {},
   "outputs": [
    {
     "name": "stdout",
     "output_type": "stream",
     "text": [
      "MSE Loss:  15.0\n",
      "CE Loss:  0.08775769\n"
     ]
    }
   ],
   "source": [
    "# Returns half of L2 norm of t given by sum(t**2)/2\n",
    "x = tf.constant([[2,4],[6,8]],dtype=tf.float32)\n",
    "x_hat = tf.constant([[1,2],[3,4]],dtype=tf.float32)\n",
    "# MSE = (1**2 + 2**2 + 3**2 + 4**2)/2 = 15\n",
    "MSE = tf.nn.l2_loss(x-x_hat)\n",
    "\n",
    "# A common loss function used in neural networks to optimize the network\n",
    "# Calculating the cross_entropy with logits (unnormalized outputs of the last layer)\n",
    "# instead of probabilsitic outputs leads to better numerical stabilities\n",
    "\n",
    "y = tf.constant([[1,0],[0,1]],dtype=tf.float32)\n",
    "y_hat = tf.constant([[3,1],[2,5]],dtype=tf.float32)\n",
    "# This function alone doesnt average the cross entropy losses of all data points,\n",
    "# You need to do that manually using reduce_mean function\n",
    "CE = tf.reduce_mean(tf.nn.softmax_cross_entropy_with_logits(logits=y_hat,labels=y))\n",
    "\n",
    "print('MSE Loss: ',MSE.numpy())\n",
    "print('CE Loss: ',CE.numpy())"
   ]
  },
  {
   "cell_type": "markdown",
   "metadata": {},
   "source": [
    "## Stochastic Optimization\n",
    "Here we discuss how to implement optimization with TensorFlow. The objective of this example is to find the mininum point of a given function. For this example, we will use a simple quadratic function where $y = x^2$. We will start at an arbitrary point (say $x=2$) and keep minimizing $y$ until we reach the minimum $y$."
   ]
  },
  {
   "cell_type": "code",
   "execution_count": 17,
   "metadata": {},
   "outputs": [
    {
     "name": "stdout",
     "output_type": "stream",
     "text": [
      "Step:  0 , x:  1.600000023841858 , y:  4.0\n",
      "Step:  1 , x:  1.2799999713897705 , y:  2.56000018119812\n",
      "Step:  2 , x:  1.0239999294281006 , y:  1.6383999586105347\n",
      "Step:  3 , x:  0.8191999197006226 , y:  1.0485758781433105\n",
      "Step:  4 , x:  0.6553599238395691 , y:  0.6710885167121887\n"
     ]
    },
    {
     "name": "stderr",
     "output_type": "stream",
     "text": [
      "2023-01-19 12:44:53.614770: I tensorflow/compiler/xla/service/service.cc:173] XLA service 0x41730f20 initialized for platform CUDA (this does not guarantee that XLA will be used). Devices:\n",
      "2023-01-19 12:44:53.614790: I tensorflow/compiler/xla/service/service.cc:181]   StreamExecutor device (0): NVIDIA GeForce RTX 2070 SUPER, Compute Capability 7.5\n",
      "2023-01-19 12:44:53.658836: I tensorflow/compiler/jit/xla_compilation_cache.cc:477] Compiled cluster using XLA!  This line is logged at most once for the lifetime of the process.\n"
     ]
    },
    {
     "data": {
      "image/png": "[encoded data removed]",
      "text/plain": [
       "<Figure size 2500x500 with 1 Axes>"
      ]
     },
     "metadata": {},
     "output_type": "display_data"
    }
   ],
   "source": [
    "# Optimizers play the role of tuning neural network parameters so that their task error is minimal\n",
    "# For example task error can be the cross_entropy error for a classification task\n",
    "tf_x = tf.Variable(tf.constant(2.0,dtype=tf.float32),name='x') \n",
    "optimizer = tf.optimizers.SGD(learning_rate=0.1)\n",
    "\n",
    "# Optimizing tf_x using gradient tape\n",
    "x_series, y_series = [],[]\n",
    "for step in range(5):    \n",
    "    x_series.append(tf_x.numpy().item())\n",
    "    with tf.GradientTape() as tape:\n",
    "        tf_y = tf_x**2\n",
    "        \n",
    "    gradients = tape.gradient(tf_y, tf_x)\n",
    "    optimizer.apply_gradients(zip([gradients], [tf_x]))\n",
    "    print('Step: ',step, ', x: ',tf_x.numpy().item(), ', y: ',tf_y.numpy().item())\n",
    "    \n",
    "    y_series.append(tf_y.numpy().item())\n",
    "\n",
    "# Plotting the graph\n",
    "fig, ax = plt.subplots(nrows=1, ncols=1)\n",
    "fig.set_size_inches(w=25,h=5)\n",
    "ax.plot(np.arange(-4,4.1,0.1),np.arange(-4,4.1,0.1)**2)\n",
    "ax.scatter(x_series,y_series,c='red',linewidths=4)\n",
    "\n",
    "x_offset, y_offset = 0.02, 0.75\n",
    "ax.annotate('Starting point', xy=(2.01, 4.1), xytext=(2.5, 8),\n",
    "            arrowprops=dict(facecolor='black', shrink=0.01),fontsize=20\n",
    "            )\n",
    "\n",
    "ax.annotate('Optimization path', xy=(2.01, 4.1), xytext=(0.6, 5),\n",
    "            arrowprops=None,fontsize=20\n",
    "            )\n",
    "\n",
    "for index,(x,y) in enumerate(zip(x_series,y_series)):\n",
    "    if index == len(x_series)-1:\n",
    "        break\n",
    "    ax.annotate('', xy=(x_series[index+1], y_series[index+1]+y_offset), xytext=( x - x_offset, y + y_offset),\n",
    "                arrowprops=dict(facecolor='red', edgecolor='red', shrink=0.01),fontsize=20\n",
    "                )\n",
    "\n",
    "ax.set_xlabel('x',fontsize=20)\n",
    "ax.set_ylabel('y',fontsize=20)\n",
    "ax.set_title('Optimizing y=x^2',fontsize=22)\n",
    "fig.savefig('optimization.png')"
   ]
  },
  {
   "cell_type": "markdown",
   "metadata": {},
   "source": [
    "## Keras APIs\n",
    "\n",
    "### Sequential API"
   ]
  },
  {
   "cell_type": "code",
   "execution_count": 18,
   "metadata": {},
   "outputs": [],
   "source": [
    "K.clear_session()\n",
    "\n",
    "model = tf.keras.Sequential([\n",
    "        tf.keras.layers.Dense(500, activation='relu'),\n",
    "        tf.keras.layers.Dense(250, activation='relu'),\n",
    "        tf.keras.layers.Dense(10, activation='softmax')\n",
    "])"
   ]
  },
  {
   "cell_type": "markdown",
   "metadata": {},
   "source": [
    "### Functional API"
   ]
  },
  {
   "cell_type": "code",
   "execution_count": 19,
   "metadata": {},
   "outputs": [],
   "source": [
    "K.clear_session()\n",
    "\n",
    "inp = tf.keras.layers.Input(shape=(784,))\n",
    "out_1 = tf.keras.layers.Dense(500, activation='relu')(inp)\n",
    "out_2 = tf.keras.layers.Dense(250, activation='relu')(out_1)\n",
    "out = tf.keras.layers.Dense(10, activation='softmax')(out_2)\n",
    "\n",
    "model = tf.keras.models.Model(inputs=inp, outputs=out)"
   ]
  },
  {
   "cell_type": "markdown",
   "metadata": {},
   "source": [
    "### Sub-classing API"
   ]
  },
  {
   "cell_type": "code",
   "execution_count": 20,
   "metadata": {},
   "outputs": [],
   "source": [
    "class MyModel(tf.keras.Model):\n",
    "\n",
    "    def __init__(self, num_classes):\n",
    "        super().__init__()\n",
    "        self.hidden1_layer = tf.keras.layers.Dense(500, activation='relu')\n",
    "        self.hidden2_layer = tf.keras.layers.Dense(250, activation='relu')\n",
    "        self.final_layer = tf.keras.layers.Dense(num_classes, activation='softmax')\n",
    "\n",
    "    def call(self, inputs):\n",
    "        h = self.hidden1_layer(inputs)\n",
    "        h = self.hidden2_layer(h)\n",
    "        y = self.final_layer(h)\n",
    "        return y\n",
    "    \n",
    "    \n",
    "model = MyModel(num_classes=10)\n"
   ]
  },
  {
   "cell_type": "markdown",
   "metadata": {},
   "source": [
    "# MNIST Classification"
   ]
  },
  {
   "cell_type": "markdown",
   "metadata": {},
   "source": [
    "## Download and Prepare Data\n",
    "\n",
    "The code below downloads the MNIST data set from source, reshapes the images to `[number_of_training_samples, single_image_size]` matrix and standardize (make zero-mean unit-variance) images. Then we do the same for testing images as well."
   ]
  },
  {
   "cell_type": "code",
   "execution_count": 21,
   "metadata": {},
   "outputs": [
    {
     "name": "stdout",
     "output_type": "stream",
     "text": [
      "(Before) x_train has shape: (60000, 28, 28)\n",
      "(Before) x_test has shape: (10000, 28, 28)\n",
      "(Before) x_train has - min: 0, max: 255\n",
      "(Before) x_test has - min: 0, max: 255\n",
      "(After) x_train has shape: (60000, 784)\n",
      "(After) x_test has shape: (10000, 784)\n",
      "(After) x_train has - min: -0.8508020140306101, max: 7.770145734421186\n",
      "(After) x_test has - min: -0.731905259880747, max: 7.57798901103678\n"
     ]
    }
   ],
   "source": [
    "os.makedirs('data', exist_ok=True)\n",
    "\n",
    "(x_train, y_train), (x_test, y_test) = tf.keras.datasets.mnist.load_data(path=os.path.join(os.getcwd(), 'data', 'mnist.npz'))\n",
    "\n",
    "print(f\"(Before) x_train has shape: {x_train.shape}\")\n",
    "print(f\"(Before) x_test has shape: {x_test.shape}\")\n",
    "\n",
    "print(f\"(Before) x_train has - min: {np.min(x_train)}, max: {np.max(x_train)}\")\n",
    "print(f\"(Before) x_test has - min: {np.min(x_test)}, max: {np.max(x_test)}\")\n",
    "\n",
    "x_train = x_train.reshape(x_train.shape[0], -1)\n",
    "x_test = x_test.reshape(x_test.shape[0], -1)\n",
    "\n",
    "print(f\"(After) x_train has shape: {x_train.shape}\")\n",
    "print(f\"(After) x_test has shape: {x_test.shape}\")\n",
    "\n",
    "x_train = (x_train - np.mean(x_train, axis=1, keepdims=True))/np.std(x_train, axis=1, keepdims=True)\n",
    "x_test = (x_test - np.mean(x_test, axis=1, keepdims=True))/np.std(x_test, axis=1, keepdims=True)\n",
    "\n",
    "print(f\"(After) x_train has - min: {np.min(x_train)}, max: {np.max(x_train)}\")\n",
    "print(f\"(After) x_test has - min: {np.min(x_test)}, max: {np.max(x_test)}\")"
   ]
  },
  {
   "cell_type": "code",
   "execution_count": 22,
   "metadata": {},
   "outputs": [
    {
     "name": "stdout",
     "output_type": "stream",
     "text": [
      "Epoch 1/10\n"
     ]
    },
    {
     "name": "stderr",
     "output_type": "stream",
     "text": [
      "2023-01-19 12:44:55.161320: I tensorflow/compiler/mlir/tensorflow/utils/dump_mlir_util.cc:268] disabling MLIR crash reproducer, set env var `MLIR_CRASH_REPRODUCER_DIRECTORY` to enable.\n"
     ]
    },
    {
     "name": "stdout",
     "output_type": "stream",
     "text": [
      "480/480 [==============================] - 2s 2ms/step - loss: 0.2264 - acc: 0.9289 - val_loss: 0.1003 - val_acc: 0.9703\n",
      "Epoch 2/10\n",
      "480/480 [==============================] - 1s 2ms/step - loss: 0.0880 - acc: 0.9728 - val_loss: 0.1092 - val_acc: 0.9704\n",
      "Epoch 3/10\n",
      "480/480 [==============================] - 1s 2ms/step - loss: 0.0567 - acc: 0.9823 - val_loss: 0.1158 - val_acc: 0.9695\n",
      "Epoch 4/10\n",
      "480/480 [==============================] - 1s 2ms/step - loss: 0.0407 - acc: 0.9881 - val_loss: 0.0947 - val_acc: 0.9774\n",
      "Epoch 5/10\n",
      "480/480 [==============================] - 1s 2ms/step - loss: 0.0288 - acc: 0.9906 - val_loss: 0.1115 - val_acc: 0.9746\n",
      "Epoch 6/10\n",
      "480/480 [==============================] - 1s 2ms/step - loss: 0.0245 - acc: 0.9921 - val_loss: 0.1103 - val_acc: 0.9772\n",
      "Epoch 7/10\n",
      "480/480 [==============================] - 1s 2ms/step - loss: 0.0172 - acc: 0.9943 - val_loss: 0.1197 - val_acc: 0.9773\n",
      "Epoch 8/10\n",
      "480/480 [==============================] - 1s 2ms/step - loss: 0.0143 - acc: 0.9951 - val_loss: 0.1259 - val_acc: 0.9784\n",
      "Epoch 9/10\n",
      "480/480 [==============================] - 1s 2ms/step - loss: 0.0125 - acc: 0.9961 - val_loss: 0.1404 - val_acc: 0.9758\n",
      "Epoch 10/10\n",
      "480/480 [==============================] - 1s 2ms/step - loss: 0.0098 - acc: 0.9967 - val_loss: 0.1630 - val_acc: 0.9762\n",
      "100/100 [==============================] - 0s 1ms/step - loss: 0.1184 - acc: 0.9803\n",
      "Testing Results: \n",
      "\tLoss: 0.1183585450053215\n",
      "\tAccuracy: 0.9803000092506409\n"
     ]
    }
   ],
   "source": [
    "batch_size = 100\n",
    "img_width, img_height = 28,28\n",
    "input_size = img_height * img_width\n",
    "num_labels = 10\n",
    "\n",
    "def mnist_model():\n",
    "    \"\"\" Defining the model using Keras sequential API \"\"\"\n",
    "    model = tf.keras.Sequential([\n",
    "        tf.keras.layers.Dense(500, activation='relu'),\n",
    "        tf.keras.layers.Dense(250, activation='relu'),\n",
    "        tf.keras.layers.Dense(10, activation='softmax')\n",
    "    ])\n",
    "    return model\n",
    "\n",
    "# Defining the model, optimizer and a loss function\n",
    "model = mnist_model()\n",
    "optimizer = tf.keras.optimizers.RMSprop()\n",
    "loss_fn = tf.keras.losses.CategoricalCrossentropy()\n",
    "model.compile(optimizer=optimizer, loss=loss_fn, metrics=['acc'])\n",
    "\n",
    "NUM_EPOCHS = 10\n",
    "\n",
    "\"\"\" Model training \"\"\"    \n",
    "\n",
    "# Creating onehot encoded labels\n",
    "y_onehot_train = np.zeros((y_train.shape[0], num_labels), dtype=np.float32)\n",
    "y_onehot_train[np.arange(y_train.shape[0]), y_train] = 1.0\n",
    "\n",
    "# Training Phase \n",
    "train_history = model.fit(x_train,y_onehot_train, batch_size=batch_size, epochs=NUM_EPOCHS, validation_split=0.2)\n",
    "\n",
    "\"\"\" Testing phase \"\"\"\n",
    "\n",
    "# Test inputs and targets\n",
    "y_onehot_test = np.zeros((y_test.shape[0], num_labels), dtype=np.float32)\n",
    "y_onehot_test[np.arange(y_test.shape[0]), y_test] = 1.0\n",
    "\n",
    "# Evaulte on test data\n",
    "test_res = model.evaluate(x_test, y_onehot_test, batch_size=batch_size)\n",
    "\n",
    "print(\"Testing Results: \")\n",
    "print(f\"\\tLoss: {test_res[0]}\")\n",
    "print(f\"\\tAccuracy: {test_res[1]}\")"
   ]
  },
  {
   "cell_type": "markdown",
   "metadata": {},
   "source": [
    "## Visualizing the Loss and the Accuracy"
   ]
  },
  {
   "cell_type": "code",
   "execution_count": 23,
   "metadata": {},
   "outputs": [
    {
     "data": {
      "image/png": "[encoded data removed]",
      "text/plain": [
       "<Figure size 2500x500 with 2 Axes>"
      ]
     },
     "metadata": {},
     "output_type": "display_data"
    }
   ],
   "source": [
    "x_axis = np.arange(NUM_EPOCHS)\n",
    "\n",
    "fig, ax = plt.subplots(nrows=1, ncols=2)\n",
    "fig.set_size_inches(w=25,h=5)\n",
    "ax[0].plot(x_axis, train_history.history[\"loss\"])\n",
    "ax[0].set_xlabel('Epochs',fontsize=18)\n",
    "ax[0].set_ylabel('Average train loss',fontsize=18)\n",
    "ax[0].set_title('Training Loss over Time',fontsize=20)\n",
    "ax[1].plot(x_axis, train_history.history[\"val_acc\"])\n",
    "ax[1].set_xlabel('Epochs',fontsize=18)\n",
    "ax[1].set_ylabel('Validation accuracy',fontsize=18)\n",
    "ax[1].set_title('Validation Accuracy over Time',fontsize=20)\n",
    "fig.savefig('mnist_stats.png')\n"
   ]
  },
  {
   "cell_type": "markdown",
   "metadata": {},
   "source": [
    "# Appendix: Defining the Neural Network from raw TensorFlow Ops\n",
    "\n",
    "## Defining Hyperparameters"
   ]
  },
  {
   "cell_type": "code",
   "execution_count": 24,
   "metadata": {},
   "outputs": [],
   "source": [
    "batch_size = 100 # how many datapoints we feed to the model in a single iteration\n",
    "img_width, img_height = 28,28 # width and height of the images\n",
    "input_size = img_height * img_width # total number of pixels\n",
    "num_labels = 10 # number of classes"
   ]
  },
  {
   "cell_type": "markdown",
   "metadata": {},
   "source": [
    "## Defining the Weights and Bias Variables\n",
    "\n",
    "Here we define a list object that has a list of dictionaries. Dictionary at `i`th position has following items.\n",
    "* `w` - Weights of the layer `i`\n",
    "* `b` - Bias of the layer `i`"
   ]
  },
  {
   "cell_type": "code",
   "execution_count": 25,
   "metadata": {},
   "outputs": [
    {
     "name": "stderr",
     "output_type": "stream",
     "text": [
      "/usr/local/lib/python3.8/dist-packages/keras/initializers/initializers_v2.py:120: UserWarning: The initializer GlorotNormal is unseeded and being called multiple times, which will return identical values  each time (even if the initializer is unseeded). Please update your code to provide a seed to the initializer, or avoid using the same initalizer instance more than once.\n",
      "  warnings.warn(\n"
     ]
    }
   ],
   "source": [
    "# Defining the Tensorflow variables\n",
    "def define_net_parameters():\n",
    "    params = []\n",
    "    \n",
    "    init = tf.keras.initializers.glorot_normal()\n",
    "    params.append(\n",
    "        {'w': tf.Variable(init([input_size,500]), dtype='float32'),\n",
    "         'b': tf.Variable(init([500]))\n",
    "        }\n",
    "    )\n",
    "        \n",
    "    params.append(\n",
    "        {'w': tf.Variable(init([500,250])),\n",
    "         'b': tf.Variable(init([250]))\n",
    "        }\n",
    "    )\n",
    "    \n",
    "    params.append(\n",
    "        {'w': tf.Variable(init([250,10])),\n",
    "         'b': tf.Variable(init([10]))\n",
    "        }\n",
    "    )\n",
    "    return params\n",
    "\n",
    "params = define_net_parameters()"
   ]
  },
  {
   "cell_type": "markdown",
   "metadata": {},
   "source": [
    "## Defining the Inference Operation\n",
    "\n",
    "Here we calculate the output logits (unnormalized scores) for a given input x"
   ]
  },
  {
   "cell_type": "code",
   "execution_count": 26,
   "metadata": {},
   "outputs": [],
   "source": [
    "# Defining calcutations in the neural network starting from inputs to logits\n",
    "# logits are the values before applying softmax to the final output\n",
    "@tf.function\n",
    "def inference(x, params):\n",
    "    h = tf.cast(x, 'float32')\n",
    "    for layer in params[:-1]:\n",
    "        w,b = layer[\"w\"], layer[\"b\"]\n",
    "        h = tf.nn.relu(tf.matmul(h,w) + b)\n",
    "    w,b = params[-1][\"w\"], params[-1][\"b\"]\n",
    "    h = tf.matmul(h,w) + b\n",
    "    \n",
    "    return h"
   ]
  },
  {
   "cell_type": "markdown",
   "metadata": {},
   "source": [
    "## Defining the Optimizer\n",
    "We use the RMSprop optimizer for training the model"
   ]
  },
  {
   "cell_type": "code",
   "execution_count": 27,
   "metadata": {},
   "outputs": [],
   "source": [
    "# defining the optimize function\n",
    "optimizer = tf.optimizers.RMSprop()"
   ]
  },
  {
   "cell_type": "markdown",
   "metadata": {},
   "source": [
    "## Training and Testing the Model\n",
    "\n",
    "Here you'll be doing the following.\n",
    "\n",
    "```\n",
    "For each epoch:\n",
    "  For each iteration:\n",
    "    * Get a batch of inputs and targets (x and y_hot)\n",
    "    * Compute the model output\n",
    "    * Compute the loss in the context of GradientTape\n",
    "    * Use the gradient of the loss to optimize the model\n",
    "  For each test iteration:\n",
    "    * Test the model accuracy with test inputs and targets\n",
    "```"
   ]
  },
  {
   "cell_type": "code",
   "execution_count": 28,
   "metadata": {},
   "outputs": [
    {
     "name": "stdout",
     "output_type": "stream",
     "text": [
      "Sample labels (one-hot)\n",
      "[[0. 0. 0. 0. 0. 1. 0. 0. 0. 0.]\n",
      " [1. 0. 0. 0. 0. 0. 0. 0. 0. 0.]\n",
      " [0. 0. 0. 0. 1. 0. 0. 0. 0. 0.]\n",
      " [0. 1. 0. 0. 0. 0. 0. 0. 0. 0.]\n",
      " [0. 0. 0. 0. 0. 0. 0. 0. 0. 1.]\n",
      " [0. 0. 1. 0. 0. 0. 0. 0. 0. 0.]\n",
      " [0. 1. 0. 0. 0. 0. 0. 0. 0. 0.]\n",
      " [0. 0. 0. 1. 0. 0. 0. 0. 0. 0.]\n",
      " [0. 1. 0. 0. 0. 0. 0. 0. 0. 0.]\n",
      " [0. 0. 0. 0. 1. 0. 0. 0. 0. 0.]]\n",
      "\n",
      "WARNING:tensorflow:5 out of the last 9 calls to <function _BaseOptimizer._update_step_xla at 0x7f9ccc693a60> triggered tf.function retracing. Tracing is expensive and the excessive number of tracings could be due to (1) creating @tf.function repeatedly in a loop, (2) passing tensors with different shapes, (3) passing Python objects instead of tensors. For (1), please define your @tf.function outside of the loop. For (2), @tf.function has reduce_retracing=True option that can avoid unnecessary retracing. For (3), please refer to https://www.tensorflow.org/guide/function#controlling_retracing and https://www.tensorflow.org/api_docs/python/tf/function for  more details.\n",
      "WARNING:tensorflow:6 out of the last 10 calls to <function _BaseOptimizer._update_step_xla at 0x7f9ccc693a60> triggered tf.function retracing. Tracing is expensive and the excessive number of tracings could be due to (1) creating @tf.function repeatedly in a loop, (2) passing tensors with different shapes, (3) passing Python objects instead of tensors. For (1), please define your @tf.function outside of the loop. For (2), @tf.function has reduce_retracing=True option that can avoid unnecessary retracing. For (3), please refer to https://www.tensorflow.org/guide/function#controlling_retracing and https://www.tensorflow.org/api_docs/python/tf/function for  more details.\n",
      "Average train loss for the 1 epoch: 0.21076110005378723\n",
      "\n",
      "\tAverage test accuracy for the 1 epoch: 94.34000000000002\n",
      "\n",
      "Average train loss for the 2 epoch: 0.0823076143860817\n",
      "\n",
      "\tAverage test accuracy for the 2 epoch: 95.86000000000001\n",
      "\n",
      "Average train loss for the 3 epoch: 0.05217352136969566\n",
      "\n",
      "\tAverage test accuracy for the 3 epoch: 96.62999999999998\n",
      "\n",
      "Average train loss for the 4 epoch: 0.03579790145158768\n",
      "\n",
      "\tAverage test accuracy for the 4 epoch: 97.35999999999999\n",
      "\n",
      "Average train loss for the 5 epoch: 0.02773410826921463\n",
      "\n",
      "\tAverage test accuracy for the 5 epoch: 97.53\n",
      "\n"
     ]
    }
   ],
   "source": [
    "NUM_EPOCHS = 5\n",
    "\n",
    "def accuracy(predictions, labels):\n",
    "    ''' Measure the classification accuracy of some predictions (softmax outputs) \n",
    "    and labels (integer class labels)'''\n",
    "    return np.sum(np.argmax(predictions,axis=1).flatten()==labels.flatten())/batch_size\n",
    "\n",
    "test_accuracy_over_time = []\n",
    "train_loss_over_time = []\n",
    "for epoch in range(NUM_EPOCHS):\n",
    "    train_loss = []\n",
    "    \n",
    "    # Training Phase \n",
    "    for step in range(x_train.shape[0]//batch_size):\n",
    "        # Creating one-hot encoded labels with labels\n",
    "        # One-hot encoding dight 3 for 10-class MNIST data set will result in\n",
    "        # [0,0,0,1,0,0,0,0,0,0]\n",
    "        x = x_train[step*batch_size: (step+1)*batch_size,:].astype('float32')\n",
    "        y = y_train[step*batch_size:(step+1)*batch_size]\n",
    "        y_hot = np.zeros((batch_size, num_labels),dtype=np.float32)\n",
    "        y_hot[np.arange(batch_size), y] = 1.0\n",
    "        \n",
    "        # Printing a sample of one-hot labels\n",
    "        if epoch ==0 and step==0:\n",
    "            print('Sample labels (one-hot)')\n",
    "            print(y_hot[:10])\n",
    "            print()\n",
    "        \n",
    "        # Using a gradient tape to record the gradients d(loss)/d(params)\n",
    "        with tf.GradientTape() as tape:            \n",
    "            # Computing the network output\n",
    "            logits = inference(x, params)\n",
    "            loss = tf.reduce_mean(tf.nn.softmax_cross_entropy_with_logits(logits=logits, labels=y_hot))\n",
    "        \n",
    "        # Making all parameters to a list\n",
    "        all_params = []\n",
    "        for dict in params:\n",
    "            all_params.extend([dict[\"w\"], dict[\"b\"]])\n",
    "        \n",
    "        # Get the gradients of all parameters and apply that using an optimizer\n",
    "        gradients = tape.gradient(loss, all_params)\n",
    "        optimizer.apply_gradients(zip(gradients, all_params))        \n",
    "        \n",
    "        train_loss.append(loss) # Used to average the loss for a single epoch\n",
    "        \n",
    "    test_accuracy = []\n",
    "    # Testing Phase\n",
    "    for step in range(x_test.shape[0]//batch_size):\n",
    "        ts_x = x_test[step*batch_size: (step+1)*batch_size,:].astype('float32')\n",
    "        test_predictions = tf.nn.softmax(inference(ts_x, params))\n",
    "        batch_test_accuracy = accuracy(test_predictions,y_test[step*batch_size: (step+1)*batch_size])        \n",
    "        test_accuracy.append(batch_test_accuracy)\n",
    "    \n",
    "    print(f\"Average train loss for the {epoch+1} epoch: {np.mean(train_loss)}\\n\")\n",
    "    train_loss_over_time.append(np.mean(train_loss))\n",
    "    print(f\"\\tAverage test accuracy for the {epoch+1} epoch: {np.mean(test_accuracy)*100.0}\\n\")\n",
    "    test_accuracy_over_time.append(np.mean(test_accuracy)*100)\n"
   ]
  },
  {
   "cell_type": "code",
   "execution_count": 29,
   "metadata": {},
   "outputs": [
    {
     "name": "stdout",
     "output_type": "stream",
     "text": [
      "# Run Date: Thursday, January 19, 2023\n",
      "# Run Time: 00:00:34\n"
     ]
    }
   ],
   "source": [
    "endTime = time.time()\n",
    "elapsedTime = time.strftime(\"%H:%M:%S\", time.gmtime(endTime - startTime))\n",
    "\n",
    "print(todaysDate.strftime('# Run Date: %A, %B %d, %Y'))\n",
    "print(f\"# Run Time: {elapsedTime}\")"
   ]
  }
 ],
 "metadata": {
  "kernelspec": {
   "display_name": "Python 3 (ipykernel)",
   "language": "python",
   "name": "python3"
  },
  "language_info": {
   "codemirror_mode": {
    "name": "ipython",
    "version": 3
   },
   "file_extension": ".py",
   "mimetype": "text/x-python",
   "name": "python",
   "nbconvert_exporter": "python",
   "pygments_lexer": "ipython3",
   "version": "3.8.10"
  }
 },
 "nbformat": 4,
 "nbformat_minor": 4
}
