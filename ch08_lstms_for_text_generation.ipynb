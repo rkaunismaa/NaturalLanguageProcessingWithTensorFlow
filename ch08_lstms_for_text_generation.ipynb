{
 "cells": [
  {
   "cell_type": "markdown",
   "metadata": {},
   "source": [
    "# LSTMs for Text Generation\n",
    "\n",
    "<table align=\"left\">\n",
    "    <td>\n",
    "        <a target=\"_blank\" href=\"https://colab.research.google.com/github/thushv89/packt_nlp_tensorflow_2/blob/master/Ch08-Language-Modelling-with-LSTMs/ch08_lstms_for_text_generation.ipynb\"><img src=\"https://www.tensorflow.org/images/colab_logo_32px.png\" />Run in Google Colab</a>\n",
    "    </td>\n",
    "</table>\n"
   ]
  },
  {
   "cell_type": "code",
   "execution_count": 1,
   "metadata": {},
   "outputs": [],
   "source": [
    "import os\n",
    "from six.moves.urllib.request import urlretrieve\n",
    "import tensorflow as tf\n",
    "\n",
    "physical_devices = tf.config.list_physical_devices('GPU')\n",
    "try:\n",
    "  tf.config.experimental.set_memory_growth(physical_devices[0], True)\n",
    "except:\n",
    "  # Invalid device or cannot modify virtual devices once initialized.\n",
    "  pass"
   ]
  },
  {
   "cell_type": "markdown",
   "metadata": {},
   "source": [
    "## Downloading Stories\n",
    "Stories are automatically downloaded from https://www.cs.cmu.edu/~spok/grimmtmp/, if not detected in the disk. The total size of stories is around ~500KB. The dataset consists of 209 stories."
   ]
  },
  {
   "cell_type": "code",
   "execution_count": 2,
   "metadata": {
    "scrolled": true
   },
   "outputs": [
    {
     "name": "stdout",
     "output_type": "stream",
     "text": [
      "209 files found.\n"
     ]
    }
   ],
   "source": [
    "url = 'https://www.cs.cmu.edu/~spok/grimmtmp/'\n",
    "dir_name = 'data'\n",
    "\n",
    "def download_data(url, filename, download_dir):\n",
    "    \"\"\"Download a file if not present, and make sure it's the right size.\"\"\"\n",
    "      \n",
    "    # Create directories if doesn't exist\n",
    "    os.makedirs(download_dir, exist_ok=True)\n",
    "    \n",
    "    # If file doesn't exist download\n",
    "    if not os.path.exists(os.path.join(download_dir,filename)):\n",
    "        filepath, _ = urlretrieve(url + filename, os.path.join(download_dir,filename))\n",
    "    else:\n",
    "        filepath = os.path.join(download_dir, filename)\n",
    "        \n",
    "    return filepath\n",
    "\n",
    "# Number of files and their names to download\n",
    "num_files = 209\n",
    "filenames = [format(i, '03d')+'.txt' for i in range(1,num_files+1)]\n",
    "\n",
    "# Download each file\n",
    "for fn in filenames:\n",
    "    download_data(url, fn, dir_name)\n",
    "    \n",
    "# Check if all files are downloaded\n",
    "for i in range(len(filenames)):\n",
    "    file_exists = os.path.isfile(os.path.join(dir_name,filenames[i]))\n",
    "    assert file_exists\n",
    "print(f\"{len(filenames)} files found.\") "
   ]
  },
  {
   "cell_type": "markdown",
   "metadata": {},
   "source": [
    "## Split train, validation and test data"
   ]
  },
  {
   "cell_type": "code",
   "execution_count": 3,
   "metadata": {},
   "outputs": [
    {
     "name": "stdout",
     "output_type": "stream",
     "text": [
      "Got 167 files in the train dataset (e.g. ['data\\\\117.txt', 'data\\\\133.txt', 'data\\\\069.txt'])\n",
      "Got 21 files in the valid dataset (e.g. ['data\\\\023.txt', 'data\\\\078.txt', 'data\\\\176.txt'])\n",
      "Got 21 files in the test dataset (e.g. ['data\\\\129.txt', 'data\\\\207.txt', 'data\\\\170.txt'])\n"
     ]
    }
   ],
   "source": [
    "from sklearn.model_selection import train_test_split\n",
    "\n",
    "# Fix the random seed so we get the same outptu everytime\n",
    "random_state = 54321\n",
    "\n",
    "filenames = [os.path.join(dir_name, f) for f in os.listdir(dir_name)]\n",
    "\n",
    "# First separate train and valid+test data\n",
    "train_filenames, test_and_valid_filenames = train_test_split(filenames, test_size=0.2, random_state=random_state)\n",
    "\n",
    "# Separate valid+test data to validation and test data\n",
    "valid_filenames, test_filenames = train_test_split(test_and_valid_filenames, test_size=0.5, random_state=random_state) \n",
    "\n",
    "# Print out the sizes and some sample filenames\n",
    "for subset_id, subset in zip(('train', 'valid', 'test'), (train_filenames, valid_filenames, test_filenames)):\n",
    "    print(f\"Got {len(subset)} files in the {subset_id} dataset (e.g. {subset[:3]})\")"
   ]
  },
  {
   "cell_type": "markdown",
   "metadata": {},
   "source": [
    "## Find the vocabulary size"
   ]
  },
  {
   "cell_type": "code",
   "execution_count": 4,
   "metadata": {},
   "outputs": [
    {
     "name": "stdout",
     "output_type": "stream",
     "text": [
      "Found 705 unique bigrams\n"
     ]
    }
   ],
   "source": [
    "bigram_set = set()\n",
    "\n",
    "# Go through each file in the training set\n",
    "for fname in train_filenames:\n",
    "    document = [] # This will hold all the text\n",
    "    with open(fname, 'r') as f:\n",
    "        for row in f:\n",
    "            # Convert text to lower case to reduce input dimensionality\n",
    "            document.append(row.lower())\n",
    "            \n",
    "        # From the list of text we have, generate one long string (containing all training stories)\n",
    "        document = \" \".join(document)\n",
    "        \n",
    "        # Update the set with all bigrams found\n",
    "        bigram_set.update([document[i:i+2] for i in range(0, len(document), 2)])\n",
    "\n",
    "# Assign to a variable and print \n",
    "n_vocab = len(bigram_set)\n",
    "print(f\"Found {n_vocab} unique bigrams\")"
   ]
  },
  {
   "cell_type": "markdown",
   "metadata": {},
   "source": [
    "## Reading data and generate batches for the model (`tf.data` API)\n",
    "\n",
    "Here we are going to define a somewhat complex `tf.data` pipeline that would do all the required transformations for us.\n",
    "\n",
    "---\n",
    "*Process for generating data to train the language model*\n",
    "\n",
    "![Generating data for the language model](notebook_images/08_01.png)"
   ]
  },
  {
   "cell_type": "code",
   "execution_count": 5,
   "metadata": {},
   "outputs": [],
   "source": [
    "def generate_tf_dataset(filenames, ngram_width, window_size, batch_size, shuffle=False):\n",
    "    \"\"\" Generate batched data from a list of files speficied \"\"\"\n",
    "    \n",
    "    # Read the data found in the documents\n",
    "    documents = []\n",
    "    for f in filenames:\n",
    "        doc = tf.io.read_file(f)\n",
    "        doc = tf.strings.ngrams(    # Generate ngrams from the string\n",
    "            tf.strings.bytes_split(    # Create a list of chars from a string\n",
    "                tf.strings.regex_replace(    # Replace new lines with space\n",
    "                    tf.strings.lower(    # Convert string to lower case\n",
    "                        doc\n",
    "                    ), \"\\n\", \" \"\n",
    "                )\n",
    "            ),\n",
    "            ngram_width, separator=''\n",
    "        )\n",
    "        documents.append(doc.numpy().tolist())\n",
    "    \n",
    "    # documents is a list of list of strings, where each string is a story\n",
    "    # From that we generate a ragged tensor\n",
    "    documents = tf.ragged.constant(documents)\n",
    "    # Create a dataset where each row in the ragged tensor would be a sample\n",
    "    doc_dataset = tf.data.Dataset.from_tensor_slices(documents)\n",
    "    # We need to perform a quick transformation - tf.strings.ngrams would generate\n",
    "    # all the ngrams (e.g. abcd -> ab, bc, cd) with overlap, however for our data\n",
    "    # we do not need the overlap, so we need to skip the overlapping ngrams\n",
    "    # the following line does that\n",
    "    doc_dataset = doc_dataset.map(lambda x: x[::ngram_width])\n",
    "    \n",
    "    # Here we are using a window function to generate windows from text\n",
    "    # For a text sequence with window_size 3 and shift 1 you get\n",
    "    # e.g. ab, cd, ef, gh, ij, ... -> [ab, cd, ef], [cd, ef, gh], [ef, gh, ij], ...\n",
    "    # each of these windows is a single training sequence for our model\n",
    "    doc_dataset = doc_dataset.flat_map(\n",
    "        lambda x: tf.data.Dataset.from_tensor_slices(\n",
    "            x\n",
    "        ).window(\n",
    "            size=window_size+1, shift=int(window_size * 0.75)\n",
    "        ).flat_map(\n",
    "            lambda window: window.batch(window_size+1, drop_remainder=True)\n",
    "        )\n",
    "    )\n",
    "    \n",
    "    # From each windowed sequence we generate input and target tuple\n",
    "    # e.g. [ab, cd, ef] -> ([ab, cd], [cd, ef])\n",
    "    doc_dataset = doc_dataset.map(lambda x: (x[:-1], x[1:]))\n",
    "    \n",
    "    # Shuffle the data if required\n",
    "    doc_dataset = doc_dataset.shuffle(buffer_size=batch_size*10) if shuffle else doc_dataset\n",
    "    \n",
    "    # Batch the data\n",
    "    doc_dataset = doc_dataset.batch(batch_size=batch_size)\n",
    "    \n",
    "    # Return the data\n",
    "    return doc_dataset\n",
    "\n",
    "\n",
    "ngram_length = 2\n",
    "batch_size = 128\n",
    "window_size = 128\n",
    "\n",
    "train_ds = generate_tf_dataset(train_filenames, ngram_length, window_size, batch_size, shuffle=True)\n",
    "valid_ds = generate_tf_dataset(valid_filenames, ngram_length, window_size, batch_size)\n",
    "test_ds = generate_tf_dataset(test_filenames, ngram_length, window_size, batch_size)"
   ]
  },
  {
   "cell_type": "markdown",
   "metadata": {},
   "source": [
    "## Generate few samples from the dataset function"
   ]
  },
  {
   "cell_type": "code",
   "execution_count": 6,
   "metadata": {},
   "outputs": [
    {
     "name": "stdout",
     "output_type": "stream",
     "text": [
      "[[b'th' b'er' b'e ' b'wa' b's ' b'on' b'ce' b' u' b'po' b'n ']] -> [[b'er' b'e ' b'wa' b's ' b'on' b'ce' b' u' b'po' b'n ' b'a ']]\n",
      "[[b' u' b'po' b'n ' b'a ' b'ti' b'me' b' a' b' s' b'he' b'ph']] -> [[b'po' b'n ' b'a ' b'ti' b'me' b' a' b' s' b'he' b'ph' b'er']]\n",
      "[[b' s' b'he' b'ph' b'er' b'd ' b'bo' b'y ' b'wh' b'os' b'e ']] -> [[b'he' b'ph' b'er' b'd ' b'bo' b'y ' b'wh' b'os' b'e ' b'fa']]\n",
      "[[b'wh' b'os' b'e ' b'fa' b'me' b' s' b'pr' b'ea' b'd ' b'fa']] -> [[b'os' b'e ' b'fa' b'me' b' s' b'pr' b'ea' b'd ' b'fa' b'r ']]\n",
      "[[b'ea' b'd ' b'fa' b'r ' b'an' b'd ' b'wi' b'de' b' b' b'ec']] -> [[b'd ' b'fa' b'r ' b'an' b'd ' b'wi' b'de' b' b' b'ec' b'au']]\n"
     ]
    }
   ],
   "source": [
    "ds = generate_tf_dataset(train_filenames, 2, window_size=10, batch_size=1).take(5)\n",
    "\n",
    "for record in ds:\n",
    "    print(record[0].numpy(), '->', record[1].numpy())"
   ]
  },
  {
   "cell_type": "markdown",
   "metadata": {},
   "source": [
    "## Defining the model"
   ]
  },
  {
   "cell_type": "code",
   "execution_count": 7,
   "metadata": {},
   "outputs": [],
   "source": [
    "import tensorflow.keras.backend as K\n",
    "\n",
    "K.clear_session()\n",
    "tf.compat.v1.reset_default_graph()"
   ]
  },
  {
   "cell_type": "markdown",
   "metadata": {},
   "source": [
    "### Defining a `TextVectorization` layer"
   ]
  },
  {
   "cell_type": "code",
   "execution_count": 8,
   "metadata": {},
   "outputs": [],
   "source": [
    "import tensorflow.keras.layers as layers\n",
    "import tensorflow.keras.models as models\n",
    "\n",
    "# The vectorization layer that will convert string bigrams to IDs\n",
    "text_vectorizer = tf.keras.layers.TextVectorization(\n",
    "    max_tokens=n_vocab, standardize=None,\n",
    "    split=None, input_shape=(window_size,)\n",
    ")\n",
    "\n",
    "# Train the model on existing data\n",
    "text_vectorizer.adapt(train_ds)"
   ]
  },
  {
   "cell_type": "code",
   "execution_count": 9,
   "metadata": {},
   "outputs": [
    {
     "data": {
      "text/plain": [
       "['', '[UNK]', 'e ', 'he', ' t', 'th', 'd ', ' a', ', ', ' h']"
      ]
     },
     "execution_count": 9,
     "metadata": {},
     "output_type": "execute_result"
    }
   ],
   "source": [
    "# Print a few bigrams learnt by the vectorization layer\n",
    "text_vectorizer.get_vocabulary()[:10]"
   ]
  },
  {
   "cell_type": "markdown",
   "metadata": {},
   "source": [
    "### Convert the targets from string ngrams to ngram IDs"
   ]
  },
  {
   "cell_type": "code",
   "execution_count": 10,
   "metadata": {},
   "outputs": [],
   "source": [
    "train_ds = train_ds.map(lambda x, y: (x, text_vectorizer(y)))\n",
    "valid_ds = valid_ds.map(lambda x, y: (x, text_vectorizer(y)))\n",
    "test_ds = test_ds.map(lambda x, y: (x, text_vectorizer(y)))"
   ]
  },
  {
   "cell_type": "markdown",
   "metadata": {},
   "source": [
    "### Language model\n",
    "\n",
    "---\n",
    "*Model architecture*\n",
    "\n",
    "![Model architecture](notebook_images/08_08.png)"
   ]
  },
  {
   "cell_type": "code",
   "execution_count": 11,
   "metadata": {},
   "outputs": [],
   "source": [
    "lm_model = models.Sequential([\n",
    "    text_vectorizer,\n",
    "    layers.Embedding(n_vocab+2, 96),\n",
    "    layers.LSTM(512, return_sequences=True),\n",
    "    layers.LSTM(256, return_sequences=True),\n",
    "    layers.Dense(1024, activation='relu'),\n",
    "    layers.Dropout(0.5),\n",
    "    layers.Dense(n_vocab, activation='softmax')\n",
    "])"
   ]
  },
  {
   "cell_type": "markdown",
   "metadata": {},
   "source": [
    "### Metrics and compilation"
   ]
  },
  {
   "cell_type": "code",
   "execution_count": 12,
   "metadata": {},
   "outputs": [],
   "source": [
    "# Inspired by https://gist.github.com/Gregorgeous/dbad1ec22efc250c76354d949a13cec3\n",
    "class PerplexityMetric(tf.keras.metrics.Mean):\n",
    "    \n",
    "    def __init__(self, name='perplexity', **kwargs):\n",
    "      super().__init__(name=name, **kwargs)\n",
    "      self.cross_entropy = tf.keras.losses.SparseCategoricalCrossentropy(from_logits=False, reduction='none')\n",
    "\n",
    "    def _calculate_perplexity(self, real, pred):\n",
    "        \n",
    "      # The next 4 lines zero-out the padding from loss calculations, \n",
    "      # this follows the logic from: https://www.tensorflow.org/beta/tutorials/text/transformer#loss_and_metrics \t\t\t      \n",
    "      loss_ = self.cross_entropy(real, pred)\n",
    "      \n",
    "      # Calculating the perplexity steps: \n",
    "      step1 = K.mean(loss_, axis=-1)\n",
    "      perplexity = K.exp(step1)\n",
    "    \n",
    "      return perplexity \n",
    "\n",
    "    def update_state(self, y_true, y_pred, sample_weight=None):            \n",
    "      perplexity = self._calculate_perplexity(y_true, y_pred)\n",
    "      # Remember self.perplexity is a tensor (tf.Variable), so using simply \"self.perplexity = perplexity\" will result in error because of mixing EagerTensor and Graph operations \n",
    "      super().update_state(perplexity)\n"
   ]
  },
  {
   "cell_type": "code",
   "execution_count": 13,
   "metadata": {},
   "outputs": [
    {
     "name": "stdout",
     "output_type": "stream",
     "text": [
      "Model: \"sequential\"\n",
      "_________________________________________________________________\n",
      " Layer (type)                Output Shape              Param #   \n",
      "=================================================================\n",
      " text_vectorization (TextVec  (None, 128)              0         \n",
      " torization)                                                     \n",
      "                                                                 \n",
      " embedding (Embedding)       (None, 128, 96)           67872     \n",
      "                                                                 \n",
      " lstm (LSTM)                 (None, 128, 512)          1247232   \n",
      "                                                                 \n",
      " lstm_1 (LSTM)               (None, 128, 256)          787456    \n",
      "                                                                 \n",
      " dense (Dense)               (None, 128, 1024)         263168    \n",
      "                                                                 \n",
      " dropout (Dropout)           (None, 128, 1024)         0         \n",
      "                                                                 \n",
      " dense_1 (Dense)             (None, 128, 705)          722625    \n",
      "                                                                 \n",
      "=================================================================\n",
      "Total params: 3,088,353\n",
      "Trainable params: 3,088,353\n",
      "Non-trainable params: 0\n",
      "_________________________________________________________________\n"
     ]
    }
   ],
   "source": [
    "lm_model.compile(loss='sparse_categorical_crossentropy', optimizer='adam', metrics=['accuracy', PerplexityMetric()])\n",
    "lm_model.summary()"
   ]
  },
  {
   "cell_type": "code",
   "execution_count": 14,
   "metadata": {},
   "outputs": [
    {
     "name": "stdout",
     "output_type": "stream",
     "text": [
      "Epoch 1/50\n",
      "49/49 [==============================] - 111s 2s/step - loss: 5.3608 - accuracy: 0.0316 - perplexity: 237.8112 - val_loss: 5.1139 - val_accuracy: 0.0393 - val_perplexity: 167.4069\n",
      "Epoch 2/50\n",
      "49/49 [==============================] - 7s 143ms/step - loss: 5.1402 - accuracy: 0.0345 - perplexity: 172.3159 - val_loss: 5.0876 - val_accuracy: 0.0397 - val_perplexity: 163.0361\n",
      "Epoch 3/50\n",
      "49/49 [==============================] - 7s 144ms/step - loss: 5.0478 - accuracy: 0.0391 - perplexity: 157.4163 - val_loss: 4.8920 - val_accuracy: 0.0714 - val_perplexity: 134.5845\n",
      "Epoch 4/50\n",
      "49/49 [==============================] - 7s 144ms/step - loss: 4.7074 - accuracy: 0.0902 - perplexity: 113.3014 - val_loss: 4.4330 - val_accuracy: 0.1171 - val_perplexity: 85.3251\n",
      "Epoch 5/50\n",
      "49/49 [==============================] - 7s 145ms/step - loss: 4.3408 - accuracy: 0.1266 - perplexity: 78.7222 - val_loss: 4.1248 - val_accuracy: 0.1445 - val_perplexity: 62.9099\n",
      "Epoch 6/50\n",
      "49/49 [==============================] - 7s 146ms/step - loss: 4.0916 - accuracy: 0.1505 - perplexity: 61.3927 - val_loss: 3.8920 - val_accuracy: 0.1776 - val_perplexity: 49.8935\n",
      "Epoch 7/50\n",
      "49/49 [==============================] - 7s 145ms/step - loss: 3.8684 - accuracy: 0.1852 - perplexity: 49.0906 - val_loss: 3.6809 - val_accuracy: 0.2154 - val_perplexity: 40.4223\n",
      "Epoch 8/50\n",
      "49/49 [==============================] - 7s 145ms/step - loss: 3.6823 - accuracy: 0.2157 - perplexity: 40.7329 - val_loss: 3.5296 - val_accuracy: 0.2411 - val_perplexity: 34.8267\n",
      "Epoch 9/50\n",
      "49/49 [==============================] - 7s 146ms/step - loss: 3.5510 - accuracy: 0.2359 - perplexity: 35.7275 - val_loss: 3.4277 - val_accuracy: 0.2533 - val_perplexity: 31.4817\n",
      "Epoch 10/50\n",
      "49/49 [==============================] - 7s 146ms/step - loss: 3.4469 - accuracy: 0.2500 - perplexity: 32.2184 - val_loss: 3.3175 - val_accuracy: 0.2654 - val_perplexity: 28.2633\n",
      "Epoch 11/50\n",
      "49/49 [==============================] - 7s 145ms/step - loss: 3.3510 - accuracy: 0.2620 - perplexity: 29.2961 - val_loss: 3.2354 - val_accuracy: 0.2762 - val_perplexity: 26.0301\n",
      "Epoch 12/50\n",
      "49/49 [==============================] - 7s 146ms/step - loss: 3.2692 - accuracy: 0.2726 - perplexity: 27.0036 - val_loss: 3.1509 - val_accuracy: 0.2880 - val_perplexity: 23.9931\n",
      "Epoch 13/50\n",
      "49/49 [==============================] - 7s 146ms/step - loss: 3.1983 - accuracy: 0.2822 - perplexity: 25.1676 - val_loss: 3.0903 - val_accuracy: 0.2973 - val_perplexity: 22.6161\n",
      "Epoch 14/50\n",
      "49/49 [==============================] - 7s 145ms/step - loss: 3.1370 - accuracy: 0.2908 - perplexity: 23.6874 - val_loss: 3.0343 - val_accuracy: 0.3057 - val_perplexity: 21.3840\n",
      "Epoch 15/50\n",
      "49/49 [==============================] - 7s 146ms/step - loss: 3.0846 - accuracy: 0.2987 - perplexity: 22.4833 - val_loss: 2.9865 - val_accuracy: 0.3136 - val_perplexity: 20.4212\n",
      "Epoch 16/50\n",
      "49/49 [==============================] - 7s 145ms/step - loss: 3.0366 - accuracy: 0.3054 - perplexity: 21.4410 - val_loss: 2.9454 - val_accuracy: 0.3203 - val_perplexity: 19.6150\n",
      "Epoch 17/50\n",
      "49/49 [==============================] - 7s 145ms/step - loss: 2.9942 - accuracy: 0.3117 - perplexity: 20.5622 - val_loss: 2.9127 - val_accuracy: 0.3251 - val_perplexity: 19.0019\n",
      "Epoch 18/50\n",
      "49/49 [==============================] - 7s 145ms/step - loss: 2.9538 - accuracy: 0.3183 - perplexity: 19.7439 - val_loss: 2.8657 - val_accuracy: 0.3324 - val_perplexity: 18.1511\n",
      "Epoch 19/50\n",
      "49/49 [==============================] - 7s 146ms/step - loss: 2.9163 - accuracy: 0.3235 - perplexity: 19.0234 - val_loss: 2.8368 - val_accuracy: 0.3396 - val_perplexity: 17.6381\n",
      "Epoch 20/50\n",
      "49/49 [==============================] - 7s 146ms/step - loss: 2.8837 - accuracy: 0.3292 - perplexity: 18.4179 - val_loss: 2.8099 - val_accuracy: 0.3445 - val_perplexity: 17.1841\n",
      "Epoch 21/50\n",
      "49/49 [==============================] - 7s 146ms/step - loss: 2.8545 - accuracy: 0.3331 - perplexity: 17.8883 - val_loss: 2.7810 - val_accuracy: 0.3481 - val_perplexity: 16.7016\n",
      "Epoch 22/50\n",
      "49/49 [==============================] - 7s 146ms/step - loss: 2.8271 - accuracy: 0.3374 - perplexity: 17.4033 - val_loss: 2.7611 - val_accuracy: 0.3513 - val_perplexity: 16.4125\n",
      "Epoch 23/50\n",
      "49/49 [==============================] - 7s 146ms/step - loss: 2.8000 - accuracy: 0.3412 - perplexity: 16.9400 - val_loss: 2.7357 - val_accuracy: 0.3547 - val_perplexity: 15.9895\n",
      "Epoch 24/50\n",
      "49/49 [==============================] - 7s 146ms/step - loss: 2.7739 - accuracy: 0.3451 - perplexity: 16.5048 - val_loss: 2.7146 - val_accuracy: 0.3590 - val_perplexity: 15.6544\n",
      "Epoch 25/50\n",
      "49/49 [==============================] - 7s 146ms/step - loss: 2.7501 - accuracy: 0.3487 - perplexity: 16.1183 - val_loss: 2.6997 - val_accuracy: 0.3614 - val_perplexity: 15.4656\n",
      "Epoch 26/50\n",
      "49/49 [==============================] - 7s 146ms/step - loss: 2.7278 - accuracy: 0.3521 - perplexity: 15.7607 - val_loss: 2.6775 - val_accuracy: 0.3645 - val_perplexity: 15.1004\n",
      "Epoch 27/50\n",
      "49/49 [==============================] - 7s 146ms/step - loss: 2.7083 - accuracy: 0.3552 - perplexity: 15.4578 - val_loss: 2.6593 - val_accuracy: 0.3686 - val_perplexity: 14.8453\n",
      "Epoch 28/50\n",
      "49/49 [==============================] - 7s 146ms/step - loss: 2.6875 - accuracy: 0.3583 - perplexity: 15.1348 - val_loss: 2.6443 - val_accuracy: 0.3704 - val_perplexity: 14.6381\n",
      "Epoch 29/50\n",
      "49/49 [==============================] - 7s 147ms/step - loss: 2.6677 - accuracy: 0.3613 - perplexity: 14.8420 - val_loss: 2.6258 - val_accuracy: 0.3739 - val_perplexity: 14.3668\n",
      "Epoch 30/50\n",
      "49/49 [==============================] - 7s 146ms/step - loss: 2.6489 - accuracy: 0.3638 - perplexity: 14.5606 - val_loss: 2.6208 - val_accuracy: 0.3745 - val_perplexity: 14.2833\n",
      "Epoch 31/50\n",
      "49/49 [==============================] - 7s 146ms/step - loss: 2.6339 - accuracy: 0.3673 - perplexity: 14.3408 - val_loss: 2.6077 - val_accuracy: 0.3755 - val_perplexity: 14.1456\n",
      "Epoch 32/50\n",
      "49/49 [==============================] - 7s 146ms/step - loss: 2.6178 - accuracy: 0.3693 - perplexity: 14.1179 - val_loss: 2.5899 - val_accuracy: 0.3809 - val_perplexity: 13.8767\n",
      "Epoch 33/50\n",
      "49/49 [==============================] - 7s 146ms/step - loss: 2.6009 - accuracy: 0.3724 - perplexity: 13.8771 - val_loss: 2.5729 - val_accuracy: 0.3830 - val_perplexity: 13.6475\n",
      "Epoch 34/50\n",
      "49/49 [==============================] - 7s 146ms/step - loss: 2.5850 - accuracy: 0.3740 - perplexity: 13.6547 - val_loss: 2.5663 - val_accuracy: 0.3845 - val_perplexity: 13.5833\n",
      "Epoch 35/50\n",
      "49/49 [==============================] - 7s 146ms/step - loss: 2.5702 - accuracy: 0.3764 - perplexity: 13.4534 - val_loss: 2.5523 - val_accuracy: 0.3860 - val_perplexity: 13.3749\n",
      "Epoch 36/50\n",
      "49/49 [==============================] - 7s 146ms/step - loss: 2.5563 - accuracy: 0.3787 - perplexity: 13.2702 - val_loss: 2.5426 - val_accuracy: 0.3892 - val_perplexity: 13.2763\n",
      "Epoch 37/50\n",
      "49/49 [==============================] - 7s 146ms/step - loss: 2.5420 - accuracy: 0.3813 - perplexity: 13.0788 - val_loss: 2.5302 - val_accuracy: 0.3915 - val_perplexity: 13.0920\n",
      "Epoch 38/50\n",
      "49/49 [==============================] - 7s 147ms/step - loss: 2.5300 - accuracy: 0.3832 - perplexity: 12.9202 - val_loss: 2.5224 - val_accuracy: 0.3923 - val_perplexity: 13.0044\n",
      "Epoch 39/50\n",
      "49/49 [==============================] - 7s 147ms/step - loss: 2.5150 - accuracy: 0.3857 - perplexity: 12.7294 - val_loss: 2.5129 - val_accuracy: 0.3941 - val_perplexity: 12.8925\n",
      "Epoch 40/50\n",
      "49/49 [==============================] - 7s 146ms/step - loss: 2.5031 - accuracy: 0.3876 - perplexity: 12.5766 - val_loss: 2.5026 - val_accuracy: 0.3957 - val_perplexity: 12.7574\n",
      "Epoch 41/50\n",
      "49/49 [==============================] - 7s 147ms/step - loss: 2.4906 - accuracy: 0.3895 - perplexity: 12.4181 - val_loss: 2.4912 - val_accuracy: 0.3976 - val_perplexity: 12.6022\n",
      "Epoch 42/50\n",
      "49/49 [==============================] - 7s 148ms/step - loss: 2.4788 - accuracy: 0.3912 - perplexity: 12.2718 - val_loss: 2.4852 - val_accuracy: 0.3991 - val_perplexity: 12.5402\n",
      "Epoch 43/50\n",
      "49/49 [==============================] - 7s 146ms/step - loss: 2.4679 - accuracy: 0.3927 - perplexity: 12.1370 - val_loss: 2.4764 - val_accuracy: 0.4009 - val_perplexity: 12.4363\n"
     ]
    },
    {
     "name": "stdout",
     "output_type": "stream",
     "text": [
      "Epoch 44/50\n",
      "49/49 [==============================] - 7s 147ms/step - loss: 2.4557 - accuracy: 0.3950 - perplexity: 11.9874 - val_loss: 2.4701 - val_accuracy: 0.4016 - val_perplexity: 12.3577\n",
      "Epoch 45/50\n",
      "49/49 [==============================] - 7s 147ms/step - loss: 2.4449 - accuracy: 0.3967 - perplexity: 11.8599 - val_loss: 2.4602 - val_accuracy: 0.4035 - val_perplexity: 12.2451\n",
      "Epoch 46/50\n",
      "49/49 [==============================] - 7s 148ms/step - loss: 2.4344 - accuracy: 0.3986 - perplexity: 11.7330 - val_loss: 2.4563 - val_accuracy: 0.4054 - val_perplexity: 12.1802\n",
      "Epoch 47/50\n",
      "49/49 [==============================] - 7s 147ms/step - loss: 2.4262 - accuracy: 0.3997 - perplexity: 11.6377 - val_loss: 2.4500 - val_accuracy: 0.4067 - val_perplexity: 12.1424\n",
      "Epoch 48/50\n",
      "49/49 [==============================] - 7s 148ms/step - loss: 2.4152 - accuracy: 0.4016 - perplexity: 11.5102 - val_loss: 2.4402 - val_accuracy: 0.4078 - val_perplexity: 12.0190\n",
      "Epoch 49/50\n",
      "49/49 [==============================] - 7s 147ms/step - loss: 2.4038 - accuracy: 0.4036 - perplexity: 11.3722 - val_loss: 2.4332 - val_accuracy: 0.4096 - val_perplexity: 11.9271\n",
      "Epoch 50/50\n",
      "49/49 [==============================] - 7s 147ms/step - loss: 2.3954 - accuracy: 0.4046 - perplexity: 11.2764 - val_loss: 2.4266 - val_accuracy: 0.4107 - val_perplexity: 11.8466\n"
     ]
    }
   ],
   "source": [
    "lstm_history = lm_model.fit(train_ds, validation_data=valid_ds, epochs=50)"
   ]
  },
  {
   "cell_type": "code",
   "execution_count": 15,
   "metadata": {},
   "outputs": [
    {
     "name": "stdout",
     "output_type": "stream",
     "text": [
      "5/5 [==============================] - 0s 48ms/step - loss: 2.4795 - accuracy: 0.3946 - perplexity: 12.3566\n"
     ]
    },
    {
     "data": {
      "text/plain": [
       "[2.4794695377349854, 0.39462873339653015, 12.356639862060547]"
      ]
     },
     "execution_count": 15,
     "metadata": {},
     "output_type": "execute_result"
    }
   ],
   "source": [
    "lm_model.evaluate(test_ds)"
   ]
  },
  {
   "cell_type": "markdown",
   "metadata": {},
   "source": [
    "## Inferring from the trained model\n",
    "\n",
    "---\n",
    "*Inferring from the trained model*\n",
    "\n",
    "![Inference](notebook_images/08_02.png)"
   ]
  },
  {
   "cell_type": "code",
   "execution_count": 16,
   "metadata": {},
   "outputs": [
    {
     "name": "stdout",
     "output_type": "stream",
     "text": [
      "Model: \"model\"\n",
      "__________________________________________________________________________________________________\n",
      " Layer (type)                   Output Shape         Param #     Connected to                     \n",
      "==================================================================================================\n",
      " input_1 (InputLayer)           [(None, 1)]          0           []                               \n",
      "                                                                                                  \n",
      " text_vectorization (TextVector  multiple            0           ['input_1[0][0]']                \n",
      " ization)                                                                                         \n",
      "                                                                                                  \n",
      " embedding (Embedding)          multiple             67872       ['text_vectorization[1][0]']     \n",
      "                                                                                                  \n",
      " input_2 (InputLayer)           [(None, 512)]        0           []                               \n",
      "                                                                                                  \n",
      " input_3 (InputLayer)           [(None, 512)]        0           []                               \n",
      "                                                                                                  \n",
      " lstm_2 (LSTM)                  [(None, 1, 512),     1247232     ['embedding[1][0]',              \n",
      "                                 (None, 512),                     'input_2[0][0]',                \n",
      "                                 (None, 512)]                     'input_3[0][0]']                \n",
      "                                                                                                  \n",
      " input_4 (InputLayer)           [(None, 256)]        0           []                               \n",
      "                                                                                                  \n",
      " input_5 (InputLayer)           [(None, 256)]        0           []                               \n",
      "                                                                                                  \n",
      " lstm_3 (LSTM)                  [(None, 1, 256),     787456      ['lstm_2[0][0]',                 \n",
      "                                 (None, 256),                     'input_4[0][0]',                \n",
      "                                 (None, 256)]                     'input_5[0][0]']                \n",
      "                                                                                                  \n",
      " dense (Dense)                  multiple             263168      ['lstm_3[0][0]']                 \n",
      "                                                                                                  \n",
      " dense_1 (Dense)                multiple             722625      ['dense[1][0]']                  \n",
      "                                                                                                  \n",
      "==================================================================================================\n",
      "Total params: 3,088,353\n",
      "Trainable params: 3,088,353\n",
      "Non-trainable params: 0\n",
      "__________________________________________________________________________________________________\n"
     ]
    }
   ],
   "source": [
    "# Define inputs to the model\n",
    "inp = tf.keras.layers.Input(dtype=tf.string, shape=(1,))\n",
    "\n",
    "text_vectorized_out = lm_model.get_layer('text_vectorization')(inp)\n",
    "\n",
    "inp_state_c_lstm = tf.keras.layers.Input(shape=(512,))\n",
    "inp_state_h_lstm = tf.keras.layers.Input(shape=(512,))\n",
    "inp_state_c_lstm_1 = tf.keras.layers.Input(shape=(256,))\n",
    "inp_state_h_lstm_1 = tf.keras.layers.Input(shape=(256,))\n",
    "\n",
    "# Define embedding layer and output\n",
    "emb_layer = lm_model.get_layer('embedding')\n",
    "emb_out = emb_layer(text_vectorized_out)\n",
    "\n",
    "# Defining a LSTM layers and output\n",
    "lstm_layer = tf.keras.layers.LSTM(512, return_state=True, return_sequences=True)\n",
    "lstm_out, lstm_state_c, lstm_state_h = lstm_layer(emb_out, initial_state=[inp_state_c_lstm, inp_state_h_lstm])\n",
    "\n",
    "lstm_1_layer = tf.keras.layers.LSTM(256, return_state=True, return_sequences=True)\n",
    "lstm_1_out, lstm_1_state_c, lstm_1_state_h = lstm_1_layer(lstm_out, initial_state=[inp_state_c_lstm_1, inp_state_h_lstm_1])\n",
    "\n",
    "# Defining a Dense layer and output\n",
    "dense_out = lm_model.get_layer('dense')(lstm_1_out)\n",
    "\n",
    "# Defining the final Dense layer and output\n",
    "final_out = lm_model.get_layer('dense_1')(dense_out)\n",
    "#softmax_out = tf.keras.layers.Activation(activation='softmax')(final_out)\n",
    "\n",
    "# Copy the weights from the original model\n",
    "lstm_layer.set_weights(lm_model.get_layer('lstm').get_weights())\n",
    "lstm_1_layer.set_weights(lm_model.get_layer('lstm_1').get_weights())\n",
    "\n",
    "# Define final model\n",
    "infer_model = tf.keras.models.Model(\n",
    "    inputs=[inp, inp_state_c_lstm, inp_state_h_lstm, inp_state_c_lstm_1, inp_state_h_lstm_1], \n",
    "    outputs=[final_out, lstm_state_c, lstm_state_h, lstm_1_state_c, lstm_1_state_h])\n",
    "\n",
    "\n",
    "# Summary\n",
    "infer_model.summary()"
   ]
  },
  {
   "cell_type": "code",
   "execution_count": 17,
   "metadata": {},
   "outputs": [
    {
     "name": "stdout",
     "output_type": "stream",
     "text": [
      "Making predictions from a 58 element long input\n",
      "\n",
      "\n",
      "============================================================\n",
      "Final text: \n",
      "When adam and eve were driven out of paradise, they were compelled to build a house for themselves on barren ground, an old woman, and, and the woman was as the king's daughter's daughter, and the king's daughter's daughter, and that in the king's daughter and said, now the king's daughter said and said, \"now this was as the king's daughter said, i will give him that the tailor was the king's daughter walked to the king's daughter and said, i will give, and then the king's daughter.  the king's daughters was about through the world.  then the king's daughter said, \"i will not been take.\" the king's daughter said and said, \"i will give him them and then this was as the king's daughter's, and they were things and said, i will go to the world, and the king's daughter said, i will go to the world, and thought that it was not this, anything to this, and that is the king's daughter than the wedding, and the king's daughter said and said, \"i will good been to the king's daughter's daughter, and the king's daughter said and said, \"i will go to the world, answered the woman, and thought the king's daughter th\n"
     ]
    }
   ],
   "source": [
    "import numpy as np\n",
    "\n",
    "text = [\"When adam and eve were driven out of paradise, they were compelled to build a house for themselves on barren ground\"]\n",
    "\n",
    "seq = [text[0][i:i+2] for i in range(0, len(text[0]), 2)]\n",
    "\n",
    "# build up model state using the given string\n",
    "print(f\"Making predictions from a {len(seq)} element long input\")\n",
    "\n",
    "vocabulary = infer_model.get_layer(\"text_vectorization\").get_vocabulary()\n",
    "index_word = dict(zip(range(len(vocabulary)), vocabulary))\n",
    "\n",
    "# Reset the state of the model initially\n",
    "infer_model.reset_states()\n",
    "# Definin the initial state as all zeros\n",
    "state_c = np.zeros(shape=(1,512))\n",
    "state_h = np.zeros(shape=(1,512))\n",
    "state_c_1 = np.zeros(shape=(1,256))\n",
    "state_h_1 = np.zeros(shape=(1,256))\n",
    "\n",
    "# Recursively update the model by assining new state to state\n",
    "for c in seq:    \n",
    "    #print(c)\n",
    "    out, state_c, state_h, state_c_1, state_h_1 = infer_model.predict(\n",
    "        [np.array([[c]]), state_c, state_h, state_c_1, state_h_1]\n",
    ")\n",
    "\n",
    "# Get final prediction after feeding the input string\n",
    "wid = int(np.argmax(out[0],axis=-1).ravel())\n",
    "word = index_word[wid]\n",
    "text.append(word)\n",
    "\n",
    "# Define first input to generate text recursively from\n",
    "x = np.array([[word]])\n",
    "\n",
    "# Code listing 10.7\n",
    "for _ in range(500):\n",
    "    \n",
    "    # Get the next output and state\n",
    "    out, state_c, state_h, state_c_1, state_h_1  = infer_model.predict([x, state_c, state_h, state_c_1, state_h_1 ])\n",
    "    \n",
    "    # Get the word id and the word from out\n",
    "    out_argsort = np.argsort(out[0], axis=-1).ravel()        \n",
    "    wid = int(out_argsort[-1])\n",
    "    word = index_word[wid]\n",
    "    \n",
    "    # If the word ends with space, we introduce a bit of randomness\n",
    "    # Essentially pick one of the top 3 outputs for that timestep depending on their likelihood\n",
    "    if word.endswith(' '):\n",
    "        if np.random.normal()>0.5:\n",
    "            width = 5\n",
    "            i = np.random.choice(list(range(-width,0)), p=out_argsort[-width:]/out_argsort[-width:].sum())    \n",
    "            wid = int(out_argsort[i])    \n",
    "            word = index_word[wid]\n",
    "            \n",
    "    # Append the prediction\n",
    "    text.append(word)\n",
    "    \n",
    "    # Recursively make the current prediction the next input\n",
    "    x = np.array([[word]])\n",
    "    \n",
    "# Print the final output    \n",
    "print('\\n')\n",
    "print('='*60)\n",
    "print(\"Final text: \")\n",
    "print(''.join(text))"
   ]
  },
  {
   "cell_type": "markdown",
   "metadata": {},
   "source": [
    "## Comparing to LSTMs with Peepholes and GRUs"
   ]
  },
  {
   "cell_type": "code",
   "execution_count": 18,
   "metadata": {},
   "outputs": [
    {
     "name": "stdout",
     "output_type": "stream",
     "text": [
      "Epoch 1/50\n",
      "49/49 [==============================] - 41s 788ms/step - loss: 5.3631 - accuracy: 0.0315 - perplexity: 238.5303 - val_loss: 5.1128 - val_accuracy: 0.0390 - val_perplexity: 167.2606\n",
      "Epoch 2/50\n",
      "49/49 [==============================] - 39s 800ms/step - loss: 5.1428 - accuracy: 0.0345 - perplexity: 172.7668 - val_loss: 5.0940 - val_accuracy: 0.0392 - val_perplexity: 164.1452\n",
      "Epoch 3/50\n",
      "49/49 [==============================] - 40s 812ms/step - loss: 5.0611 - accuracy: 0.0368 - perplexity: 159.5073 - val_loss: 4.9285 - val_accuracy: 0.0628 - val_perplexity: 139.5026\n",
      "Epoch 4/50\n",
      "49/49 [==============================] - 38s 763ms/step - loss: 4.7428 - accuracy: 0.0840 - perplexity: 117.3458 - val_loss: 4.4775 - val_accuracy: 0.1123 - val_perplexity: 89.1742\n",
      "Epoch 5/50\n",
      "49/49 [==============================] - 29s 586ms/step - loss: 4.3524 - accuracy: 0.1272 - perplexity: 31384018.0000 - val_loss: 4.0689 - val_accuracy: 0.1577 - val_perplexity: 59.4332\n",
      "Epoch 6/50\n",
      "49/49 [==============================] - 29s 579ms/step - loss: 4.0016 - accuracy: 0.1752 - perplexity: 56.1533 - val_loss: 3.7867 - val_accuracy: 0.2067 - val_perplexity: 44.8911\n",
      "Epoch 7/50\n",
      "49/49 [==============================] - 30s 606ms/step - loss: 3.7910 - accuracy: 0.2052 - perplexity: 45.3969 - val_loss: 3.6333 - val_accuracy: 0.2276 - val_perplexity: 38.5483\n",
      "Epoch 8/50\n",
      "49/49 [==============================] - 30s 611ms/step - loss: 3.6706 - accuracy: 0.2203 - perplexity: 40.2306 - val_loss: 3.5372 - val_accuracy: 0.2342 - val_perplexity: 35.0796\n",
      "Epoch 9/50\n",
      "49/49 [==============================] - 31s 625ms/step - loss: 3.5782 - accuracy: 0.2307 - perplexity: 36.7035 - val_loss: 3.4612 - val_accuracy: 0.2425 - val_perplexity: 32.5541\n",
      "Epoch 10/50\n",
      "49/49 [==============================] - 31s 628ms/step - loss: 3.4988 - accuracy: 0.2398 - perplexity: 33.9267 - val_loss: 3.3816 - val_accuracy: 0.2526 - val_perplexity: 30.0839\n",
      "Epoch 11/50\n",
      "49/49 [==============================] - 31s 630ms/step - loss: 3.4262 - accuracy: 0.2491 - perplexity: 31.5731 - val_loss: 3.3151 - val_accuracy: 0.2640 - val_perplexity: 28.1824\n",
      "Epoch 12/50\n",
      "49/49 [==============================] - 31s 630ms/step - loss: 3.3594 - accuracy: 0.2578 - perplexity: 29.5546 - val_loss: 3.2513 - val_accuracy: 0.2721 - val_perplexity: 26.4962\n",
      "Epoch 13/50\n",
      "49/49 [==============================] - 33s 662ms/step - loss: 3.2979 - accuracy: 0.2664 - perplexity: 27.8061 - val_loss: 3.1975 - val_accuracy: 0.2794 - val_perplexity: 25.1298\n",
      "Epoch 14/50\n",
      "49/49 [==============================] - 33s 660ms/step - loss: 3.2410 - accuracy: 0.2747 - perplexity: 26.2817 - val_loss: 3.1401 - val_accuracy: 0.2892 - val_perplexity: 23.7504\n",
      "Epoch 15/50\n",
      "49/49 [==============================] - 32s 644ms/step - loss: 3.1846 - accuracy: 0.2825 - perplexity: 24.8507 - val_loss: 3.0925 - val_accuracy: 0.2940 - val_perplexity: 22.7044\n",
      "Epoch 16/50\n",
      "49/49 [==============================] - 32s 659ms/step - loss: 3.1357 - accuracy: 0.2889 - perplexity: 23.6805 - val_loss: 3.0452 - val_accuracy: 0.3008 - val_perplexity: 21.6727\n",
      "Epoch 17/50\n",
      "49/49 [==============================] - 32s 649ms/step - loss: 3.0885 - accuracy: 0.2959 - perplexity: 22.5991 - val_loss: 3.0050 - val_accuracy: 0.3079 - val_perplexity: 20.8192\n",
      "Epoch 18/50\n",
      "49/49 [==============================] - 32s 654ms/step - loss: 3.0453 - accuracy: 0.3029 - perplexity: 21.6468 - val_loss: 2.9620 - val_accuracy: 0.3149 - val_perplexity: 19.9427\n",
      "Epoch 19/50\n",
      "49/49 [==============================] - 32s 656ms/step - loss: 3.0071 - accuracy: 0.3090 - perplexity: 20.8330 - val_loss: 2.9234 - val_accuracy: 0.3226 - val_perplexity: 19.2231\n",
      "Epoch 20/50\n",
      "49/49 [==============================] - 32s 657ms/step - loss: 2.9692 - accuracy: 0.3148 - perplexity: 20.0725 - val_loss: 2.8887 - val_accuracy: 0.3280 - val_perplexity: 18.5733\n",
      "Epoch 21/50\n",
      "49/49 [==============================] - 32s 656ms/step - loss: 2.9341 - accuracy: 0.3207 - perplexity: 19.3726 - val_loss: 2.8609 - val_accuracy: 0.3336 - val_perplexity: 18.0558\n",
      "Epoch 22/50\n",
      "49/49 [==============================] - 32s 658ms/step - loss: 2.9026 - accuracy: 0.3252 - perplexity: 18.7823 - val_loss: 2.8304 - val_accuracy: 0.3409 - val_perplexity: 17.5629\n",
      "Epoch 23/50\n",
      "49/49 [==============================] - 32s 653ms/step - loss: 2.8720 - accuracy: 0.3299 - perplexity: 18.2175 - val_loss: 2.8020 - val_accuracy: 0.3451 - val_perplexity: 17.0733\n",
      "Epoch 24/50\n",
      "49/49 [==============================] - 32s 653ms/step - loss: 2.8429 - accuracy: 0.3341 - perplexity: 17.6993 - val_loss: 2.7763 - val_accuracy: 0.3493 - val_perplexity: 16.6290\n",
      "Epoch 25/50\n",
      "49/49 [==============================] - 32s 654ms/step - loss: 2.8173 - accuracy: 0.3385 - perplexity: 17.2493 - val_loss: 2.7535 - val_accuracy: 0.3521 - val_perplexity: 16.2647\n",
      "Epoch 26/50\n",
      "49/49 [==============================] - 32s 656ms/step - loss: 2.7913 - accuracy: 0.3424 - perplexity: 16.8080 - val_loss: 2.7304 - val_accuracy: 0.3566 - val_perplexity: 15.9205\n",
      "Epoch 27/50\n",
      "49/49 [==============================] - 32s 651ms/step - loss: 2.7652 - accuracy: 0.3464 - perplexity: 16.3759 - val_loss: 2.7066 - val_accuracy: 0.3597 - val_perplexity: 15.5480\n",
      "Epoch 28/50\n",
      "49/49 [==============================] - 32s 649ms/step - loss: 2.7422 - accuracy: 0.3503 - perplexity: 16.0063 - val_loss: 2.6887 - val_accuracy: 0.3630 - val_perplexity: 15.2645\n",
      "Epoch 29/50\n",
      "49/49 [==============================] - 32s 655ms/step - loss: 2.7207 - accuracy: 0.3530 - perplexity: 15.6693 - val_loss: 2.6684 - val_accuracy: 0.3675 - val_perplexity: 14.9733\n",
      "Epoch 30/50\n",
      "49/49 [==============================] - 33s 672ms/step - loss: 2.6976 - accuracy: 0.3571 - perplexity: 15.3074 - val_loss: 2.6498 - val_accuracy: 0.3711 - val_perplexity: 14.7159\n",
      "Epoch 31/50\n",
      "49/49 [==============================] - 32s 653ms/step - loss: 2.6775 - accuracy: 0.3601 - perplexity: 15.0060 - val_loss: 2.6305 - val_accuracy: 0.3735 - val_perplexity: 14.4213\n",
      "Epoch 32/50\n",
      "49/49 [==============================] - 32s 657ms/step - loss: 2.6587 - accuracy: 0.3634 - perplexity: 14.7198 - val_loss: 2.6208 - val_accuracy: 0.3746 - val_perplexity: 14.3013\n",
      "Epoch 33/50\n",
      "49/49 [==============================] - 32s 656ms/step - loss: 2.6415 - accuracy: 0.3657 - perplexity: 14.4696 - val_loss: 2.6024 - val_accuracy: 0.3776 - val_perplexity: 14.0541\n",
      "Epoch 34/50\n",
      "49/49 [==============================] - 32s 654ms/step - loss: 2.6236 - accuracy: 0.3687 - perplexity: 14.2170 - val_loss: 2.5898 - val_accuracy: 0.3808 - val_perplexity: 13.8478\n",
      "Epoch 35/50\n",
      "49/49 [==============================] - 33s 669ms/step - loss: 2.6063 - accuracy: 0.3715 - perplexity: 13.9703 - val_loss: 2.5742 - val_accuracy: 0.3829 - val_perplexity: 13.6463\n",
      "Epoch 36/50\n",
      "49/49 [==============================] - 32s 649ms/step - loss: 2.5890 - accuracy: 0.3739 - perplexity: 13.7317 - val_loss: 2.5617 - val_accuracy: 0.3845 - val_perplexity: 13.4731\n",
      "Epoch 37/50\n",
      "49/49 [==============================] - 32s 658ms/step - loss: 2.5731 - accuracy: 0.3766 - perplexity: 13.5156 - val_loss: 2.5499 - val_accuracy: 0.3863 - val_perplexity: 13.3381\n",
      "Epoch 38/50\n",
      "49/49 [==============================] - 32s 652ms/step - loss: 2.5582 - accuracy: 0.3785 - perplexity: 13.3080 - val_loss: 2.5388 - val_accuracy: 0.3890 - val_perplexity: 13.2087\n",
      "Epoch 39/50\n",
      "49/49 [==============================] - 33s 666ms/step - loss: 2.5431 - accuracy: 0.3811 - perplexity: 13.1081 - val_loss: 2.5264 - val_accuracy: 0.3896 - val_perplexity: 13.0360\n",
      "Epoch 40/50\n",
      "49/49 [==============================] - 36s 741ms/step - loss: 2.5305 - accuracy: 0.3833 - perplexity: 12.9432 - val_loss: 2.5164 - val_accuracy: 0.3916 - val_perplexity: 12.9102\n",
      "Epoch 41/50\n",
      "49/49 [==============================] - 36s 735ms/step - loss: 2.5166 - accuracy: 0.3858 - perplexity: 12.7609 - val_loss: 2.5074 - val_accuracy: 0.3947 - val_perplexity: 12.8094\n",
      "Epoch 42/50\n",
      "49/49 [==============================] - 36s 729ms/step - loss: 2.5040 - accuracy: 0.3876 - perplexity: 12.5989 - val_loss: 2.4964 - val_accuracy: 0.3960 - val_perplexity: 12.6591\n",
      "Epoch 43/50\n",
      "49/49 [==============================] - 36s 730ms/step - loss: 2.4892 - accuracy: 0.3898 - perplexity: 12.4198 - val_loss: 2.4941 - val_accuracy: 0.3972 - val_perplexity: 12.6556\n"
     ]
    },
    {
     "name": "stdout",
     "output_type": "stream",
     "text": [
      "Epoch 44/50\n",
      "49/49 [==============================] - 36s 723ms/step - loss: 2.4781 - accuracy: 0.3915 - perplexity: 12.2767 - val_loss: 2.4789 - val_accuracy: 0.3984 - val_perplexity: 12.4391\n",
      "Epoch 45/50\n",
      "49/49 [==============================] - 36s 729ms/step - loss: 2.4663 - accuracy: 0.3933 - perplexity: 12.1331 - val_loss: 2.4705 - val_accuracy: 0.4005 - val_perplexity: 12.3487\n",
      "Epoch 46/50\n",
      "49/49 [==============================] - 36s 730ms/step - loss: 2.4535 - accuracy: 0.3959 - perplexity: 11.9767 - val_loss: 2.4607 - val_accuracy: 0.4024 - val_perplexity: 12.2402\n",
      "Epoch 47/50\n",
      "49/49 [==============================] - 37s 755ms/step - loss: 2.4418 - accuracy: 0.3975 - perplexity: 11.8335 - val_loss: 2.4527 - val_accuracy: 0.4034 - val_perplexity: 12.1315\n",
      "Epoch 48/50\n",
      "49/49 [==============================] - 36s 738ms/step - loss: 2.4353 - accuracy: 0.3982 - perplexity: 11.7538 - val_loss: 2.4446 - val_accuracy: 0.4047 - val_perplexity: 12.0226\n",
      "Epoch 49/50\n",
      "49/49 [==============================] - 38s 769ms/step - loss: 2.4206 - accuracy: 0.4006 - perplexity: 11.5819 - val_loss: 2.4394 - val_accuracy: 0.4071 - val_perplexity: 11.9941\n",
      "Epoch 50/50\n",
      "49/49 [==============================] - 37s 754ms/step - loss: 2.4090 - accuracy: 0.4027 - perplexity: 11.4480 - val_loss: 2.4310 - val_accuracy: 0.4078 - val_perplexity: 11.8888\n"
     ]
    }
   ],
   "source": [
    "import tensorflow.keras.backend as K\n",
    "import tensorflow_addons as tfa\n",
    "import tensorflow.keras.layers as layers\n",
    "import tensorflow.keras.models as models\n",
    "\n",
    "K.clear_session()\n",
    "tf.compat.v1.reset_default_graph()\n",
    "\n",
    "ngram_length = 2\n",
    "batch_size = 128\n",
    "window_size = 128\n",
    "\n",
    "train_ds = generate_tf_dataset(train_filenames, ngram_length, window_size, batch_size, shuffle=True)\n",
    "valid_ds = generate_tf_dataset(valid_filenames, ngram_length, window_size, batch_size)\n",
    "\n",
    "\n",
    "# The vectorization layer that will convert string bigrams to IDs\n",
    "text_vectorizer = tf.keras.layers.TextVectorization(\n",
    "    max_tokens=n_vocab, standardize=None,\n",
    "    split=None, input_shape=(window_size,)\n",
    ")\n",
    "\n",
    "# Train the model on existing data\n",
    "text_vectorizer.adapt(train_ds)\n",
    "\n",
    "lm_peephole_model = models.Sequential([\n",
    "    text_vectorizer,\n",
    "    layers.Embedding(n_vocab+2, 96),\n",
    "    layers.RNN(\n",
    "        tfa.rnn.PeepholeLSTMCell(512),\n",
    "        return_sequences=True\n",
    "    ),\n",
    "    layers.RNN(\n",
    "        tfa.rnn.PeepholeLSTMCell(256),\n",
    "        return_sequences=True\n",
    "    ),\n",
    "    layers.Dense(1024, activation='relu'),\n",
    "    layers.Dropout(0.5),\n",
    "    layers.Dense(n_vocab, activation='softmax')\n",
    "])\n",
    "\n",
    "lm_peephole_model.compile(loss='sparse_categorical_crossentropy', optimizer='adam', metrics=['accuracy', PerplexityMetric()])\n",
    "\n",
    "train_ds = train_ds.map(lambda x, y: (x, text_vectorizer(y)))\n",
    "valid_ds = valid_ds.map(lambda x, y: (x, text_vectorizer(y)))\n",
    "\n",
    "lstm_peephole_history = lm_peephole_model.fit(train_ds, validation_data=valid_ds, epochs=50)"
   ]
  },
  {
   "cell_type": "code",
   "execution_count": 19,
   "metadata": {},
   "outputs": [
    {
     "name": "stdout",
     "output_type": "stream",
     "text": [
      "Epoch 1/50\n",
      "49/49 [==============================] - 9s 134ms/step - loss: 5.3677 - accuracy: 0.0342 - perplexity: 245.4217 - val_loss: 5.0343 - val_accuracy: 0.0582 - val_perplexity: 154.8004\n",
      "Epoch 2/50\n",
      "49/49 [==============================] - 6s 125ms/step - loss: 4.7515 - accuracy: 0.0946 - perplexity: 121.4303 - val_loss: 4.1817 - val_accuracy: 0.1634 - val_perplexity: 66.6251\n",
      "Epoch 3/50\n",
      "49/49 [==============================] - 6s 124ms/step - loss: 3.9054 - accuracy: 0.1940 - perplexity: 51.9038 - val_loss: 3.5253 - val_accuracy: 0.2476 - val_perplexity: 34.7051\n",
      "Epoch 4/50\n",
      "49/49 [==============================] - 6s 124ms/step - loss: 3.4520 - accuracy: 0.2534 - perplexity: 32.5645 - val_loss: 3.2221 - val_accuracy: 0.2813 - val_perplexity: 25.7526\n",
      "Epoch 5/50\n",
      "49/49 [==============================] - 6s 125ms/step - loss: 3.2085 - accuracy: 0.2842 - perplexity: 25.5149 - val_loss: 3.0365 - val_accuracy: 0.3087 - val_perplexity: 21.4614\n",
      "Epoch 6/50\n",
      "49/49 [==============================] - 6s 125ms/step - loss: 3.0423 - accuracy: 0.3083 - perplexity: 21.6205 - val_loss: 2.8983 - val_accuracy: 0.3329 - val_perplexity: 18.7123\n",
      "Epoch 7/50\n",
      "49/49 [==============================] - 6s 125ms/step - loss: 2.9167 - accuracy: 0.3271 - perplexity: 19.0771 - val_loss: 2.7971 - val_accuracy: 0.3501 - val_perplexity: 16.9331\n",
      "Epoch 8/50\n",
      "49/49 [==============================] - 6s 126ms/step - loss: 2.8167 - accuracy: 0.3430 - perplexity: 17.2669 - val_loss: 2.7162 - val_accuracy: 0.3628 - val_perplexity: 15.6420\n",
      "Epoch 9/50\n",
      "49/49 [==============================] - 6s 125ms/step - loss: 2.7315 - accuracy: 0.3555 - perplexity: 15.8490 - val_loss: 2.6506 - val_accuracy: 0.3727 - val_perplexity: 14.6880\n",
      "Epoch 10/50\n",
      "49/49 [==============================] - 6s 125ms/step - loss: 2.6619 - accuracy: 0.3667 - perplexity: 14.7850 - val_loss: 2.5948 - val_accuracy: 0.3821 - val_perplexity: 13.8770\n",
      "Epoch 11/50\n",
      "49/49 [==============================] - 6s 125ms/step - loss: 2.6013 - accuracy: 0.3759 - perplexity: 13.9158 - val_loss: 2.5520 - val_accuracy: 0.3897 - val_perplexity: 13.3112\n",
      "Epoch 12/50\n",
      "49/49 [==============================] - 6s 125ms/step - loss: 2.5493 - accuracy: 0.3841 - perplexity: 13.2041 - val_loss: 2.5133 - val_accuracy: 0.3960 - val_perplexity: 12.8127\n",
      "Epoch 13/50\n",
      "49/49 [==============================] - 6s 125ms/step - loss: 2.5027 - accuracy: 0.3912 - perplexity: 12.5924 - val_loss: 2.4811 - val_accuracy: 0.4016 - val_perplexity: 12.4095\n",
      "Epoch 14/50\n",
      "49/49 [==============================] - 6s 125ms/step - loss: 2.4611 - accuracy: 0.3982 - perplexity: 12.0775 - val_loss: 2.4536 - val_accuracy: 0.4057 - val_perplexity: 12.0899\n",
      "Epoch 15/50\n",
      "49/49 [==============================] - 6s 125ms/step - loss: 2.4244 - accuracy: 0.4040 - perplexity: 11.6350 - val_loss: 2.4285 - val_accuracy: 0.4120 - val_perplexity: 11.8012\n",
      "Epoch 16/50\n",
      "49/49 [==============================] - 6s 125ms/step - loss: 2.3897 - accuracy: 0.4093 - perplexity: 11.2309 - val_loss: 2.4077 - val_accuracy: 0.4156 - val_perplexity: 11.5703\n",
      "Epoch 17/50\n",
      "49/49 [==============================] - 6s 126ms/step - loss: 2.3581 - accuracy: 0.4143 - perplexity: 10.8763 - val_loss: 2.3922 - val_accuracy: 0.4178 - val_perplexity: 11.4028\n",
      "Epoch 18/50\n",
      "49/49 [==============================] - 6s 126ms/step - loss: 2.3285 - accuracy: 0.4192 - perplexity: 10.5548 - val_loss: 2.3758 - val_accuracy: 0.4223 - val_perplexity: 11.2156\n",
      "Epoch 19/50\n",
      "49/49 [==============================] - 6s 126ms/step - loss: 2.3021 - accuracy: 0.4232 - perplexity: 10.2750 - val_loss: 2.3636 - val_accuracy: 0.4232 - val_perplexity: 11.0938\n",
      "Epoch 20/50\n",
      "49/49 [==============================] - 6s 127ms/step - loss: 2.2758 - accuracy: 0.4275 - perplexity: 10.0048 - val_loss: 2.3477 - val_accuracy: 0.4269 - val_perplexity: 10.9177\n",
      "Epoch 21/50\n",
      "49/49 [==============================] - 6s 127ms/step - loss: 2.2499 - accuracy: 0.4322 - perplexity: 9.7395 - val_loss: 2.3386 - val_accuracy: 0.4289 - val_perplexity: 10.8267\n",
      "Epoch 22/50\n",
      "49/49 [==============================] - 6s 127ms/step - loss: 2.2269 - accuracy: 0.4361 - perplexity: 9.5153 - val_loss: 2.3280 - val_accuracy: 0.4317 - val_perplexity: 10.7236\n",
      "Epoch 23/50\n",
      "49/49 [==============================] - 7s 129ms/step - loss: 2.2048 - accuracy: 0.4401 - perplexity: 9.3049 - val_loss: 2.3205 - val_accuracy: 0.4331 - val_perplexity: 10.6366\n",
      "Epoch 24/50\n",
      "49/49 [==============================] - 6s 126ms/step - loss: 2.1833 - accuracy: 0.4435 - perplexity: 9.1022 - val_loss: 2.3130 - val_accuracy: 0.4346 - val_perplexity: 10.5686\n",
      "Epoch 25/50\n",
      "49/49 [==============================] - 6s 127ms/step - loss: 2.1599 - accuracy: 0.4481 - perplexity: 8.8878 - val_loss: 2.3067 - val_accuracy: 0.4375 - val_perplexity: 10.5251\n",
      "Epoch 26/50\n",
      "49/49 [==============================] - 6s 127ms/step - loss: 2.1374 - accuracy: 0.4513 - perplexity: 8.6838 - val_loss: 2.3007 - val_accuracy: 0.4388 - val_perplexity: 10.4513\n",
      "Epoch 27/50\n",
      "49/49 [==============================] - 7s 128ms/step - loss: 2.1162 - accuracy: 0.4555 - perplexity: 8.4992 - val_loss: 2.2943 - val_accuracy: 0.4398 - val_perplexity: 10.3917\n",
      "Epoch 28/50\n",
      "49/49 [==============================] - 6s 127ms/step - loss: 2.0963 - accuracy: 0.4586 - perplexity: 8.3272 - val_loss: 2.3034 - val_accuracy: 0.4414 - val_perplexity: 10.5443\n",
      "Epoch 29/50\n",
      "49/49 [==============================] - 6s 127ms/step - loss: 2.0733 - accuracy: 0.4625 - perplexity: 8.1330 - val_loss: 2.2876 - val_accuracy: 0.4436 - val_perplexity: 10.3499\n",
      "Epoch 30/50\n",
      "49/49 [==============================] - 7s 128ms/step - loss: 2.0523 - accuracy: 0.4662 - perplexity: 7.9621 - val_loss: 2.2955 - val_accuracy: 0.4420 - val_perplexity: 10.4587\n",
      "Epoch 31/50\n",
      "49/49 [==============================] - 7s 138ms/step - loss: 2.0311 - accuracy: 0.4701 - perplexity: 7.7906 - val_loss: 2.2904 - val_accuracy: 0.4435 - val_perplexity: 10.3927\n",
      "Epoch 32/50\n",
      "49/49 [==============================] - 8s 149ms/step - loss: 2.0096 - accuracy: 0.4741 - perplexity: 7.6210 - val_loss: 2.2908 - val_accuracy: 0.4441 - val_perplexity: 10.4104\n",
      "Epoch 33/50\n",
      "49/49 [==============================] - 8s 160ms/step - loss: 1.9887 - accuracy: 0.4777 - perplexity: 7.4591 - val_loss: 2.2882 - val_accuracy: 0.4459 - val_perplexity: 10.3879\n",
      "Epoch 34/50\n",
      "49/49 [==============================] - 9s 172ms/step - loss: 1.9680 - accuracy: 0.4823 - perplexity: 7.3047 - val_loss: 2.2951 - val_accuracy: 0.4455 - val_perplexity: 10.4995\n",
      "Epoch 35/50\n",
      "49/49 [==============================] - 8s 148ms/step - loss: 1.9458 - accuracy: 0.4858 - perplexity: 7.1404 - val_loss: 2.3133 - val_accuracy: 0.4445 - val_perplexity: 10.7272\n",
      "Epoch 36/50\n",
      "49/49 [==============================] - 8s 144ms/step - loss: 1.9240 - accuracy: 0.4901 - perplexity: 6.9840 - val_loss: 2.3240 - val_accuracy: 0.4447 - val_perplexity: 10.8895\n",
      "Epoch 37/50\n",
      "49/49 [==============================] - 7s 144ms/step - loss: 1.9026 - accuracy: 0.4936 - perplexity: 6.8327 - val_loss: 2.3160 - val_accuracy: 0.4455 - val_perplexity: 10.7647\n",
      "Epoch 38/50\n",
      "49/49 [==============================] - 7s 143ms/step - loss: 1.8801 - accuracy: 0.4983 - perplexity: 6.6779 - val_loss: 2.3176 - val_accuracy: 0.4447 - val_perplexity: 10.7892\n",
      "Epoch 39/50\n",
      "49/49 [==============================] - 7s 145ms/step - loss: 1.8576 - accuracy: 0.5034 - perplexity: 6.5275 - val_loss: 2.3330 - val_accuracy: 0.4452 - val_perplexity: 11.0061\n",
      "Epoch 40/50\n",
      "49/49 [==============================] - 7s 143ms/step - loss: 1.8373 - accuracy: 0.5068 - perplexity: 6.3945 - val_loss: 2.3379 - val_accuracy: 0.4441 - val_perplexity: 11.0522\n",
      "Epoch 41/50\n",
      "49/49 [==============================] - 8s 146ms/step - loss: 1.8136 - accuracy: 0.5115 - perplexity: 6.2400 - val_loss: 2.3506 - val_accuracy: 0.4440 - val_perplexity: 11.2515\n",
      "Epoch 42/50\n",
      "49/49 [==============================] - 8s 145ms/step - loss: 1.7912 - accuracy: 0.5158 - perplexity: 6.0996 - val_loss: 2.3628 - val_accuracy: 0.4441 - val_perplexity: 11.3989\n",
      "Epoch 43/50\n",
      "49/49 [==============================] - 7s 144ms/step - loss: 1.7689 - accuracy: 0.5207 - perplexity: 5.9640 - val_loss: 2.3749 - val_accuracy: 0.4419 - val_perplexity: 11.5821\n",
      "Epoch 44/50\n"
     ]
    },
    {
     "name": "stdout",
     "output_type": "stream",
     "text": [
      "49/49 [==============================] - 8s 160ms/step - loss: 1.7472 - accuracy: 0.5255 - perplexity: 5.8341 - val_loss: 2.4071 - val_accuracy: 0.4413 - val_perplexity: 12.0235\n",
      "Epoch 45/50\n",
      "49/49 [==============================] - 8s 141ms/step - loss: 1.7252 - accuracy: 0.5301 - perplexity: 5.7062 - val_loss: 2.4096 - val_accuracy: 0.4407 - val_perplexity: 12.0394\n",
      "Epoch 46/50\n",
      "49/49 [==============================] - 7s 139ms/step - loss: 1.7035 - accuracy: 0.5344 - perplexity: 5.5799 - val_loss: 2.4347 - val_accuracy: 0.4392 - val_perplexity: 12.4019\n",
      "Epoch 47/50\n",
      "49/49 [==============================] - 7s 140ms/step - loss: 1.6833 - accuracy: 0.5384 - perplexity: 5.4678 - val_loss: 2.4409 - val_accuracy: 0.4382 - val_perplexity: 12.5115\n",
      "Epoch 48/50\n",
      "49/49 [==============================] - 7s 139ms/step - loss: 1.6593 - accuracy: 0.5437 - perplexity: 5.3367 - val_loss: 2.4599 - val_accuracy: 0.4383 - val_perplexity: 12.8088\n",
      "Epoch 49/50\n",
      "49/49 [==============================] - 7s 139ms/step - loss: 1.6387 - accuracy: 0.5479 - perplexity: 5.2266 - val_loss: 2.4842 - val_accuracy: 0.4387 - val_perplexity: 13.1486\n",
      "Epoch 50/50\n",
      "49/49 [==============================] - 7s 137ms/step - loss: 1.6173 - accuracy: 0.5528 - perplexity: 5.1143 - val_loss: 2.5202 - val_accuracy: 0.4362 - val_perplexity: 13.7435\n"
     ]
    }
   ],
   "source": [
    "import tensorflow.keras.backend as K\n",
    "import tensorflow_addons as tfa\n",
    "import tensorflow.keras.layers as layers\n",
    "import tensorflow.keras.models as models\n",
    "\n",
    "K.clear_session()\n",
    "tf.compat.v1.reset_default_graph()\n",
    "\n",
    "ngram_length = 2\n",
    "batch_size = 128\n",
    "window_size = 128\n",
    "\n",
    "train_ds = generate_tf_dataset(train_filenames, ngram_length, window_size, batch_size, shuffle=True)\n",
    "valid_ds = generate_tf_dataset(valid_filenames, ngram_length, window_size, batch_size)\n",
    "\n",
    "\n",
    "# The vectorization layer that will convert string bigrams to IDs\n",
    "text_vectorizer = tf.keras.layers.TextVectorization(\n",
    "    max_tokens=n_vocab, standardize=None,\n",
    "    split=None, input_shape=(window_size,)\n",
    ")\n",
    "\n",
    "# Train the model on existing data\n",
    "text_vectorizer.adapt(train_ds)\n",
    "\n",
    "lm_gru_model = models.Sequential([\n",
    "    text_vectorizer,\n",
    "    layers.Embedding(n_vocab+2, 96),\n",
    "    layers.GRU(512, return_sequences=True),\n",
    "    layers.GRU(256, return_sequences=True),\n",
    "    layers.Dense(1024, activation='relu'),\n",
    "    layers.Dropout(0.5),\n",
    "    layers.Dense(n_vocab, activation='softmax')\n",
    "])\n",
    "\n",
    "lm_gru_model.compile(loss='sparse_categorical_crossentropy', optimizer='adam', metrics=['accuracy', PerplexityMetric()])\n",
    "\n",
    "train_ds = train_ds.map(lambda x, y: (x, text_vectorizer(y)))\n",
    "valid_ds = valid_ds.map(lambda x, y: (x, text_vectorizer(y)))\n",
    "\n",
    "gru_history = lm_gru_model.fit(train_ds, validation_data=valid_ds, epochs=50)"
   ]
  },
  {
   "cell_type": "markdown",
   "metadata": {},
   "source": [
    "### Running Training, Validation and Generation\n",
    "\n",
    "We traing the LSTM on existing training data, check the validaiton perplexity on an unseen chunk of text and generate a fresh segment of text"
   ]
  },
  {
   "cell_type": "code",
   "execution_count": 23,
   "metadata": {
    "scrolled": true
   },
   "outputs": [
    {
     "data": {
      "text/plain": [
       "Text(0, 0.5, 'Perplexity')"
      ]
     },
     "execution_count": 23,
     "metadata": {},
     "output_type": "execute_result"
    },
    {
     "data": {
      "image/png": "[encoded data removed]",
      "text/plain": [
       "<Figure size 864x432 with 1 Axes>"
      ]
     },
     "metadata": {
      "needs_background": "light"
     },
     "output_type": "display_data"
    }
   ],
   "source": [
    "import matplotlib.pyplot as plt\n",
    "%matplotlib inline\n",
    "\n",
    "# Plots without the Word2vec related results\n",
    "plt.figure(figsize=(12, 6)) \n",
    "k = 5\n",
    "\n",
    "for model_name, history, marker, color in zip(\n",
    "    ['LSTM', 'LSTM (Peephole)', 'GRU'], \n",
    "    [lstm_history, lstm_peephole_history, gru_history],\n",
    "    ['o', '+', 'x'],\n",
    "    ['red', 'green', 'blue']\n",
    "):\n",
    "    \n",
    "    train_perplexity = history.history[\"perplexity\"][k:]\n",
    "    val_perplexity = history.history[\"val_perplexity\"][k:]\n",
    "    \n",
    "    # Plot the training perplexities\n",
    "    plt.plot(np.arange(k,len(train_perplexity)+k), \n",
    "               train_perplexity, marker=marker, markersize=6, linestyle='--' , color=color,\n",
    "               label = model_name)\n",
    "    \n",
    "    plt.plot(np.arange(k, len(val_perplexity)+k), \n",
    "           val_perplexity, marker=marker, markersize=6, color=color,\n",
    "           label = model_name+'_valid')\n",
    "\n",
    "plt.legend(loc=1,fontsize=16)\n",
    "plt.title('Train/Valid perplexity behavior for various sequential models',fontsize=18)\n",
    "plt.ylabel('Perplexity',fontsize=18)\n"
   ]
  },
  {
   "cell_type": "markdown",
   "metadata": {
    "collapsed": true
   },
   "source": [
    "## LSTM with Beam-Search\n",
    "\n",
    "Here we alter the previously defined prediction related TensorFlow operations to employ beam-search. Beam search is a way of predicting several time steps ahead. Concretely instead of predicting the best prediction we have at a given time step, we get predictions for several time steps and get the sequence of highest joint probability."
   ]
  },
  {
   "cell_type": "code",
   "execution_count": 21,
   "metadata": {},
   "outputs": [],
   "source": [
    "def beam_one_step(model, input_, states): \n",
    "    \"\"\" Perform the model update and output for one step\"\"\"\n",
    "    out = model.predict([input_, *states])\n",
    "    output, new_states = out[0], out[1:]\n",
    "    return output, new_states\n",
    "\n",
    "\n",
    "def beam_search(model, input_, states, beam_depth=5, beam_width=3):\n",
    "    \"\"\" Defines an outer wrapper for the computational function of beam search \"\"\"\n",
    "    \n",
    "    vocabulary = infer_model.get_layer(\"text_vectorization\").get_vocabulary()\n",
    "    index_word = dict(zip(range(len(vocabulary)), vocabulary))\n",
    "\n",
    "    def recursive_fn(input_, states, sequence, log_prob, i):\n",
    "        \"\"\" This function performs actual recursive computation of the long string\"\"\"\n",
    "        \n",
    "        if i == beam_depth:\n",
    "            \"\"\" Base case: Terminate the beam search \"\"\"\n",
    "            results.append((list(sequence), states, np.exp(log_prob)))            \n",
    "            return sequence, log_prob, states\n",
    "        else:\n",
    "            \"\"\" Recursive case: Keep computing the output using the previous outputs\"\"\"\n",
    "            output, new_states = beam_one_step(model, input_, states)\n",
    "            \n",
    "            # Get the top beam_widht candidates for the given depth\n",
    "            top_probs, top_ids = tf.nn.top_k(output, k=beam_width)\n",
    "            top_probs, top_ids = top_probs.numpy().ravel(), top_ids.numpy().ravel()\n",
    "            \n",
    "            # For each candidate compute the next prediction\n",
    "            for p, wid in zip(top_probs, top_ids):                \n",
    "                new_log_prob = log_prob + np.log(p)\n",
    "                \n",
    "                # we are going to penalize joint probability whenever the same symbol is repeating\n",
    "                if len(sequence)>0 and wid == sequence[-1]:\n",
    "                    new_log_prob = new_log_prob + np.log(1e-1)\n",
    "                    \n",
    "                sequence.append(wid)                \n",
    "                _ = recursive_fn(np.array([[index_word[wid]]]), new_states, sequence, new_log_prob, i+1)                                         \n",
    "                sequence.pop()\n",
    "        \n",
    "    \n",
    "    results = []\n",
    "    sequence = []\n",
    "    log_prob = 0.0\n",
    "    recursive_fn(input_, states, sequence, log_prob, 0)    \n",
    "\n",
    "    results = sorted(results, key=lambda x: x[2], reverse=True)\n",
    "\n",
    "    return results"
   ]
  },
  {
   "cell_type": "code",
   "execution_count": 22,
   "metadata": {},
   "outputs": [
    {
     "name": "stdout",
     "output_type": "stream",
     "text": [
      "Making 58 predictions from input\n",
      "..................................................\n",
      "\n",
      "============================================================\n",
      "Final text: \n",
      "When adam and eve were driven out of paradise, they were compelled to build a house for themselves on barren ground, and when he went to the forest, and the king's daughter.  then she was a little daughter, and the king's daughter said, i will have beautiful, and then the king said the king's daughter, and when the king said, \"you will give her into the water.  then said the tailor.  then she was about to him, and when he had become that they could not know what the king's daughter said to the king's son.  then the little tailor, answered the king, answered the huntsman, and when he came to the forest, and the\n"
     ]
    }
   ],
   "source": [
    "text = [\"When adam and eve were driven out of paradise, they were compelled to build a house for themselves on barren ground\"]\n",
    "\n",
    "vocabulary = infer_model.get_layer(\"text_vectorization\").get_vocabulary()\n",
    "index_word = dict(zip(range(len(vocabulary)), vocabulary))\n",
    "\n",
    "\n",
    "seq = [text[0][i:i+2] for i in range(0, len(text[0]), 2)]\n",
    "\n",
    "# build up model state using the given string\n",
    "print(f\"Making {len(seq)} predictions from input\")\n",
    "\n",
    "\n",
    "# Reset the state of the model initially\n",
    "lm_model.reset_states()\n",
    "\n",
    "# Definin the initial state as all zeros\n",
    "state_c = np.zeros(shape=(1,512))\n",
    "state_h = np.zeros(shape=(1,512))\n",
    "state_c_1 = np.zeros(shape=(1,256))\n",
    "state_h_1 = np.zeros(shape=(1,256))\n",
    "\n",
    "states = [state_c, state_h, state_c_1, state_h_1]\n",
    "\n",
    "# Recursively update the model by assining new state to state\n",
    "for c in seq:    \n",
    "    out, state_c, state_h, state_c_1, state_h_1 = infer_model.predict(\n",
    "        [np.array([[c]]), state_c, state_h, state_c_1, state_h_1]\n",
    ")\n",
    "\n",
    "# Get final prediction after feeding the input string\n",
    "wid = int(np.argmax(out[0],axis=-1).ravel())\n",
    "word = index_word[wid]\n",
    "text.append(word)\n",
    "\n",
    "# Define first input to generate text recursively from\n",
    "x = np.array([[word]])\n",
    "\n",
    "# Predict for 100 time steps\n",
    "for i in range(50):    \n",
    "    print('.', end='')\n",
    "    \n",
    "    # Get the results from beam search\n",
    "    result = beam_search(infer_model, x, states, 5, 5)\n",
    "    \n",
    "    # Get one of the top 10 results based on their likelihood\n",
    "    n_probs = np.array([p for _,_,p in result[:10]])\n",
    "    p_j = np.random.choice(list(range(n_probs.size)), p=n_probs/n_probs.sum())                    \n",
    "    best_beam_ids, states, _ = result[p_j]\n",
    "    x = np.array([[index_word[best_beam_ids[-1]]]])\n",
    "            \n",
    "    text.extend([index_word[w] for w in best_beam_ids])    \n",
    "\n",
    "print('\\n')\n",
    "print('='*60)\n",
    "print(\"Final text: \")\n",
    "print(''.join(text))"
   ]
  },
  {
   "cell_type": "code",
   "execution_count": null,
   "metadata": {
    "collapsed": true
   },
   "outputs": [],
   "source": []
  }
 ],
 "metadata": {
  "kernelspec": {
   "display_name": "Python 3 (ipykernel)",
   "language": "python",
   "name": "python3"
  },
  "language_info": {
   "codemirror_mode": {
    "name": "ipython",
    "version": 3
   },
   "file_extension": ".py",
   "mimetype": "text/x-python",
   "name": "python",
   "nbconvert_exporter": "python",
   "pygments_lexer": "ipython3",
   "version": "3.7.11"
  }
 },
 "nbformat": 4,
 "nbformat_minor": 2
}
