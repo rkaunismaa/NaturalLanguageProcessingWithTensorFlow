{
 "cells": [
  {
   "cell_type": "markdown",
   "metadata": {},
   "source": [
    "# Question answering with BERT (HuggingFace)\n",
    "\n",
    "Deep learning has been revolutionized by transformer models. Transformer based models like BERT are heavily used in NLP to solve tasks due to the rich numerical representations of text they provide. Here we will be discussing how to use HuggingFace's transformers library to conveniently explore various transformer based NLP models. We will be training a question answering model on the famous SQUAD v1 dataset.\n",
    "\n",
    "**Warning**: This a very memory intensive exercise. It is recommended to havea GPU with a large memory if running on a GPU-powered Machine. This exercise was run on a Nvidia RTX 2070 8GB with a training batch size of `4`.\n",
    "\n",
    "---\n",
    "*High level architecture of the Transformer*\n",
    "\n",
    "![Transformer architecture](notebook_images/10_01.png)\n",
    "\n",
    "---\n",
    "\n",
    "<table align=\"left\">\n",
    "    <td>\n",
    "        <a target=\"_blank\" href=\"https://colab.research.google.com/github/thushv89/packt_nlp_tensorflow_2/blob/master/Ch10-Transformers/ch10_transformers.ipynb\"><img src=\"https://www.tensorflow.org/images/colab_logo_32px.png\" />Run in Google Colab</a>\n",
    "    </td>\n",
    "</table>\n",
    "\n"
   ]
  },
  {
   "cell_type": "markdown",
   "metadata": {},
   "source": [
    "## Import libraries"
   ]
  },
  {
   "cell_type": "code",
   "execution_count": 1,
   "metadata": {},
   "outputs": [
    {
     "name": "stderr",
     "output_type": "stream",
     "text": [
      "/usr/local/lib/python3.8/dist-packages/tqdm/auto.py:22: TqdmWarning: IProgress not found. Please update jupyter and ipywidgets. See https://ipywidgets.readthedocs.io/en/stable/user_install.html\n",
      "  from .autonotebook import tqdm as notebook_tqdm\n",
      "2023-01-19 12:16:12.632761: I tensorflow/core/platform/cpu_feature_guard.cc:193] This TensorFlow binary is optimized with oneAPI Deep Neural Network Library (oneDNN) to use the following CPU instructions in performance-critical operations:  AVX2 FMA\n",
      "To enable them in other operations, rebuild TensorFlow with the appropriate compiler flags.\n",
      "2023-01-19 12:16:13.175659: W tensorflow/compiler/xla/stream_executor/platform/default/dso_loader.cc:64] Could not load dynamic library 'libnvinfer.so.7'; dlerror: libnvinfer.so.7: cannot open shared object file: No such file or directory; LD_LIBRARY_PATH: /usr/local/nvidia/lib:/usr/local/nvidia/lib64\n",
      "2023-01-19 12:16:13.175706: W tensorflow/compiler/xla/stream_executor/platform/default/dso_loader.cc:64] Could not load dynamic library 'libnvinfer_plugin.so.7'; dlerror: libnvinfer_plugin.so.7: cannot open shared object file: No such file or directory; LD_LIBRARY_PATH: /usr/local/nvidia/lib:/usr/local/nvidia/lib64\n",
      "2023-01-19 12:16:13.175712: W tensorflow/compiler/tf2tensorrt/utils/py_utils.cc:38] TF-TRT Warning: Cannot dlopen some TensorRT libraries. If you would like to use Nvidia GPU with TensorRT, please make sure the missing libraries mentioned above are installed properly.\n",
      "2023-01-19 12:16:14.500143: I tensorflow/compiler/xla/stream_executor/cuda/cuda_gpu_executor.cc:981] successful NUMA node read from SysFS had negative value (-1), but there must be at least one NUMA node, so returning NUMA node zero\n",
      "2023-01-19 12:16:14.500325: I tensorflow/compiler/xla/stream_executor/cuda/cuda_gpu_executor.cc:981] successful NUMA node read from SysFS had negative value (-1), but there must be at least one NUMA node, so returning NUMA node zero\n",
      "2023-01-19 12:16:14.504442: I tensorflow/compiler/xla/stream_executor/cuda/cuda_gpu_executor.cc:981] successful NUMA node read from SysFS had negative value (-1), but there must be at least one NUMA node, so returning NUMA node zero\n",
      "2023-01-19 12:16:14.504609: I tensorflow/compiler/xla/stream_executor/cuda/cuda_gpu_executor.cc:981] successful NUMA node read from SysFS had negative value (-1), but there must be at least one NUMA node, so returning NUMA node zero\n",
      "2023-01-19 12:16:14.504758: I tensorflow/compiler/xla/stream_executor/cuda/cuda_gpu_executor.cc:981] successful NUMA node read from SysFS had negative value (-1), but there must be at least one NUMA node, so returning NUMA node zero\n",
      "2023-01-19 12:16:14.504901: I tensorflow/compiler/xla/stream_executor/cuda/cuda_gpu_executor.cc:981] successful NUMA node read from SysFS had negative value (-1), but there must be at least one NUMA node, so returning NUMA node zero\n",
      "2023-01-19 12:16:14.505009: I tensorflow/core/common_runtime/gpu/gpu_device.cc:2006] Ignoring visible gpu device (device: 1, name: NVIDIA GeForce GTX 1050, pci bus id: 0000:01:00.0, compute capability: 6.1) with core count: 5. The minimum required count is 8. You can adjust this requirement with the env var TF_MIN_GPU_MULTIPROCESSOR_COUNT.\n"
     ]
    }
   ],
   "source": [
    "import random\n",
    "import numpy as np\n",
    "import transformers\n",
    "from datasets import load_dataset\n",
    "from transformers import DistilBertTokenizerFast\n",
    "from transformers import DistilBertConfig, TFDistilBertForQuestionAnswering\n",
    "import tensorflow as tf\n",
    "import time\n",
    "\n",
    "def set_random_seed(seed):\n",
    "    \"\"\" Setting the random seed of various libraries \"\"\"\n",
    "    try:\n",
    "        np.random.seed(seed)\n",
    "    except NameError:\n",
    "        print(\"Warning: Numpy is not imported. Setting the seed for Numpy failed.\")\n",
    "    try:\n",
    "        tf.random.set_seed(seed)\n",
    "    except NameError:\n",
    "        print(\"Warning: TensorFlow is not imported. Setting the seed for TensorFlow failed.\")\n",
    "    try:\n",
    "        random.seed(seed)\n",
    "    except NameError:\n",
    "        print(\"Warning: random module is not imported. Setting the seed for random failed.\")\n",
    "    try:\n",
    "        transformers.trainer_utils.set_seed(seed)\n",
    "    except NameError:\n",
    "        print(\"Warning: transformers module is not imported. Setting the seed for transformers failed.\")\n",
    "        \n",
    "# Fixing the random seed\n",
    "random_seed=4321\n",
    "set_random_seed(random_seed)\n",
    "\n",
    "physical_devices = tf.config.list_physical_devices('GPU')\n",
    "try:\n",
    "  tf.config.experimental.set_memory_growth(physical_devices[0], True)\n",
    "except:\n",
    "  print(\"No GPU found!\")\n",
    "  pass"
   ]
  },
  {
   "cell_type": "markdown",
   "metadata": {},
   "source": [
    "## Download the dataset\n",
    "\n",
    "For this we will be using the [SQUAD v1 dataset](https://rajpurkar.github.io/SQuAD-explorer/). It is a question answering dataset. You are provided with a question, a context (e.g. a paragraph in which the answer to the question may exist) and finally the answer. Your goal is to, given the question and the context predict the answer."
   ]
  },
  {
   "cell_type": "code",
   "execution_count": 2,
   "metadata": {},
   "outputs": [
    {
     "name": "stderr",
     "output_type": "stream",
     "text": [
      "Downloading builder script: 100%|████████████████████████████████████████████████████████████████████████████████████| 5.27k/5.27k [00:00<00:00, 7.31MB/s]\n",
      "Downloading metadata: 100%|██████████████████████████████████████████████████████████████████████████████████████████| 2.36k/2.36k [00:00<00:00, 5.17MB/s]\n",
      "Downloading readme: 100%|████████████████████████████████████████████████████████████████████████████████████████████| 7.67k/7.67k [00:00<00:00, 12.2MB/s]\n"
     ]
    },
    {
     "name": "stdout",
     "output_type": "stream",
     "text": [
      "Downloading and preparing dataset squad/plain_text to /home/rob/Data2/huggingface/datasets/squad/plain_text/1.0.0/d6ec3ceb99ca480ce37cdd35555d6cb2511d223b9150cce08a837ef62ffea453...\n"
     ]
    },
    {
     "name": "stderr",
     "output_type": "stream",
     "text": [
      "Downloading data files:   0%|                                                                                                       | 0/2 [00:00<?, ?it/s]\n",
      "Downloading data:   0%|                                                                                                       | 0.00/8.12M [00:00<?, ?B/s]\u001b[A\n",
      "Downloading data:   6%|█████▉                                                                                         | 507k/8.12M [00:00<00:01, 4.94MB/s]\u001b[A\n",
      "Downloading data:  12%|███████████▌                                                                                  | 1.00M/8.12M [00:00<00:01, 4.27MB/s]\u001b[A\n",
      "Downloading data:  20%|██████████████████▋                                                                           | 1.61M/8.12M [00:00<00:01, 5.02MB/s]\u001b[A\n",
      "Downloading data:  26%|████████████████████████▌                                                                     | 2.13M/8.12M [00:00<00:01, 4.97MB/s]\u001b[A\n",
      "Downloading data:  32%|██████████████████████████████▍                                                               | 2.63M/8.12M [00:00<00:01, 4.87MB/s]\u001b[A\n",
      "Downloading data:  38%|████████████████████████████████████▏                                                         | 3.12M/8.12M [00:00<00:01, 4.81MB/s]\u001b[A\n",
      "Downloading data:  44%|█████████████████████████████████████████▊                                                    | 3.61M/8.12M [00:00<00:01, 3.82MB/s]\u001b[A\n",
      "Downloading data:  55%|███████████████████████████████████████████████████▎                                          | 4.43M/8.12M [00:00<00:00, 4.86MB/s]\u001b[A\n",
      "Downloading data:  61%|█████████████████████████████████████████████████████████▍                                    | 4.96M/8.12M [00:01<00:00, 4.87MB/s]\u001b[A\n",
      "Downloading data:  67%|███████████████████████████████████████████████████████████████▎                              | 5.47M/8.12M [00:01<00:00, 4.88MB/s]\u001b[A\n",
      "Downloading data:  74%|█████████████████████████████████████████████████████████████████████▎                        | 5.98M/8.12M [00:01<00:00, 4.87MB/s]\u001b[A\n",
      "Downloading data:  80%|███████████████████████████████████████████████████████████████████████████                   | 6.48M/8.12M [00:01<00:00, 4.82MB/s]\u001b[A\n",
      "Downloading data:  86%|█████████████████████████████████████████████████████████████████████████████████▏            | 7.01M/8.12M [00:01<00:00, 4.87MB/s]\u001b[A\n",
      "Downloading data:  92%|██████████████████████████████████████████████████████████████████████████████████████▉       | 7.50M/8.12M [00:01<00:00, 4.78MB/s]\u001b[A\n",
      "Downloading data:  99%|████████████████████████████████████████████████████████████████████████████████████████████▊ | 8.02M/8.12M [00:01<00:00, 4.81MB/s]\u001b[A\n",
      "Downloading data: 8.51MB [00:01, 4.73MB/s]                                                                                                                \u001b[A\n",
      "Downloading data: 9.00MB [00:01, 4.72MB/s]\u001b[A\n",
      "Downloading data: 9.49MB [00:02, 4.67MB/s]\u001b[A\n",
      "Downloading data: 9.97MB [00:02, 4.63MB/s]\u001b[A\n",
      "Downloading data: 10.4MB [00:02, 4.59MB/s]\u001b[A\n",
      "Downloading data: 10.9MB [00:02, 4.53MB/s]\u001b[A\n",
      "Downloading data: 11.4MB [00:02, 4.61MB/s]\u001b[A\n",
      "Downloading data: 11.9MB [00:02, 4.54MB/s]\u001b[A\n",
      "Downloading data: 12.4MB [00:02, 4.67MB/s]\u001b[A\n",
      "Downloading data: 12.9MB [00:02, 4.58MB/s]\u001b[A\n",
      "Downloading data: 13.4MB [00:02, 4.59MB/s]\u001b[A\n",
      "Downloading data: 13.9MB [00:02, 4.57MB/s]\u001b[A\n",
      "Downloading data: 14.3MB [00:03, 4.56MB/s]\u001b[A\n",
      "Downloading data: 14.8MB [00:03, 4.60MB/s]\u001b[A\n",
      "Downloading data: 15.3MB [00:03, 4.57MB/s]\u001b[A\n",
      "Downloading data: 15.8MB [00:03, 4.54MB/s]\u001b[A\n",
      "Downloading data: 16.3MB [00:03, 4.53MB/s]\u001b[A\n",
      "Downloading data: 16.7MB [00:03, 3.73MB/s]\u001b[A\n",
      "Downloading data: 17.6MB [00:03, 4.73MB/s]\u001b[A\n",
      "Downloading data: 18.1MB [00:03, 4.73MB/s]\u001b[A\n",
      "Downloading data: 18.6MB [00:03, 4.69MB/s]\u001b[A\n",
      "Downloading data: 19.1MB [00:04, 4.67MB/s]\u001b[A\n",
      "Downloading data: 19.5MB [00:04, 4.60MB/s]\u001b[A\n",
      "Downloading data: 20.0MB [00:04, 4.56MB/s]\u001b[A\n",
      "Downloading data: 20.5MB [00:04, 4.51MB/s]\u001b[A\n",
      "Downloading data: 20.9MB [00:04, 4.48MB/s]\u001b[A\n",
      "Downloading data: 21.4MB [00:04, 4.51MB/s]\u001b[A\n",
      "Downloading data: 21.9MB [00:04, 4.50MB/s]\u001b[A\n",
      "Downloading data: 22.4MB [00:04, 4.51MB/s]\u001b[A\n",
      "Downloading data: 22.8MB [00:04, 4.46MB/s]\u001b[A\n",
      "Downloading data: 23.3MB [00:05, 4.49MB/s]\u001b[A\n",
      "Downloading data: 23.8MB [00:05, 4.46MB/s]\u001b[A\n",
      "Downloading data: 24.3MB [00:05, 4.51MB/s]\u001b[A\n",
      "Downloading data: 24.8MB [00:05, 4.55MB/s]\u001b[A\n",
      "Downloading data: 25.3MB [00:05, 4.55MB/s]\u001b[A\n",
      "Downloading data: 25.7MB [00:05, 4.56MB/s]\u001b[A\n",
      "Downloading data: 26.3MB [00:05, 4.62MB/s]\u001b[A\n",
      "Downloading data: 26.8MB [00:05, 4.64MB/s]\u001b[A\n",
      "Downloading data: 27.3MB [00:05, 4.66MB/s]\u001b[A\n",
      "Downloading data: 27.7MB [00:06, 4.64MB/s]\u001b[A\n",
      "Downloading data: 28.2MB [00:06, 4.58MB/s]\u001b[A\n",
      "Downloading data: 28.7MB [00:06, 3.82MB/s]\u001b[A\n",
      "Downloading data: 29.5MB [00:06, 4.75MB/s]\u001b[A\n",
      "Downloading data: 30.3MB [00:06, 4.61MB/s]\u001b[A\n",
      "Downloading data files:  50%|███████████████████████████████████████████████▌                                               | 1/2 [00:07<00:07,  7.42s/it]\n",
      "Downloading data:   0%|                                                                                                       | 0.00/1.05M [00:00<?, ?B/s]\u001b[A\n",
      "Downloading data:  61%|█████████████████████████████████████████████████████████▋                                     | 641k/1.05M [00:00<00:00, 6.24MB/s]\u001b[A\n",
      "Downloading data: 1.27MB [00:00, 5.33MB/s]                                                                                                                \u001b[A\n",
      "Downloading data: 1.96MB [00:00, 5.90MB/s]\u001b[A\n",
      "Downloading data: 2.56MB [00:00, 5.77MB/s]\u001b[A\n",
      "Downloading data: 3.15MB [00:00, 5.70MB/s]\u001b[A\n",
      "Downloading data: 3.72MB [00:00, 5.61MB/s]\u001b[A\n",
      "Downloading data: 4.85MB [00:00, 5.59MB/s]\u001b[A\n",
      "Downloading data files: 100%|███████████████████████████████████████████████████████████████████████████████████████████████| 2/2 [00:08<00:00,  4.29s/it]\n",
      "Extracting data files: 100%|██████████████████████████████████████████████████████████████████████████████████████████████| 2/2 [00:00<00:00, 2285.72it/s]\n",
      "                                                                                                                                                          \r"
     ]
    },
    {
     "name": "stdout",
     "output_type": "stream",
     "text": [
      "Dataset squad downloaded and prepared to /home/rob/Data2/huggingface/datasets/squad/plain_text/1.0.0/d6ec3ceb99ca480ce37cdd35555d6cb2511d223b9150cce08a837ef62ffea453. Subsequent calls will reuse this data.\n"
     ]
    },
    {
     "name": "stderr",
     "output_type": "stream",
     "text": [
      "100%|██████████████████████████████████████████████████████████████████████████████████████████████████████████████████████| 2/2 [00:00<00:00, 633.39it/s]"
     ]
    },
    {
     "name": "stdout",
     "output_type": "stream",
     "text": [
      "DatasetDict({\n",
      "    train: Dataset({\n",
      "        features: ['id', 'title', 'context', 'question', 'answers'],\n",
      "        num_rows: 87599\n",
      "    })\n",
      "    validation: Dataset({\n",
      "        features: ['id', 'title', 'context', 'question', 'answers'],\n",
      "        num_rows: 10570\n",
      "    })\n",
      "})\n"
     ]
    },
    {
     "name": "stderr",
     "output_type": "stream",
     "text": [
      "\n"
     ]
    }
   ],
   "source": [
    "# Section 13.3\n",
    "\n",
    "from datasets import load_dataset\n",
    "\n",
    "dataset = load_dataset(\"squad\")\n",
    "\n",
    "print(dataset)"
   ]
  },
  {
   "cell_type": "markdown",
   "metadata": {},
   "source": [
    "## Print the first 5 samples in the training set"
   ]
  },
  {
   "cell_type": "code",
   "execution_count": 3,
   "metadata": {},
   "outputs": [
    {
     "name": "stdout",
     "output_type": "stream",
     "text": [
      "To whom did the Virgin Mary allegedly appear in 1858 in Lourdes France? -> {'text': ['Saint Bernadette Soubirous'], 'answer_start': [515]}\n",
      "What is in front of the Notre Dame Main Building? -> {'text': ['a copper statue of Christ'], 'answer_start': [188]}\n",
      "The Basilica of the Sacred heart at Notre Dame is beside to which structure? -> {'text': ['the Main Building'], 'answer_start': [279]}\n",
      "What is the Grotto at Notre Dame? -> {'text': ['a Marian place of prayer and reflection'], 'answer_start': [381]}\n",
      "What sits on top of the Main Building at Notre Dame? -> {'text': ['a golden statue of the Virgin Mary'], 'answer_start': [92]}\n"
     ]
    }
   ],
   "source": [
    "for q, a in zip(dataset[\"train\"][\"question\"][:5], dataset[\"train\"][\"answers\"][:5]):\n",
    "    print(f\"{q} -> {a}\")"
   ]
  },
  {
   "cell_type": "markdown",
   "metadata": {},
   "source": [
    "## Correcting incorrect offsets of the provided answers\n",
    "\n",
    "The answers are provided by means of the, starting index (`answer_start`) and the answer it self (`text`). We will add `answer_end`, which will denote the index of the position the answer ends."
   ]
  },
  {
   "cell_type": "code",
   "execution_count": 4,
   "metadata": {},
   "outputs": [
    {
     "name": "stdout",
     "output_type": "stream",
     "text": [
      "Training data corrections\n",
      "\n",
      "Validation data correction\n"
     ]
    }
   ],
   "source": [
    "def compute_end_index(answers, contexts):\n",
    "    \"\"\" Add end index to answers \"\"\"\n",
    "    \n",
    "    fixed_answers = []\n",
    "    for answer, context in zip(answers, contexts):\n",
    "\n",
    "        gold_text = answer['text'][0]\n",
    "        answer['text'] = gold_text\n",
    "        start_idx = answer['answer_start'][0]\n",
    "        answer['answer_start'] = start_idx\n",
    "        \n",
    "        # Make sure the starting index is valid and there is an answer\n",
    "        assert start_idx >=0 and len(gold_text.strip()) > 0\n",
    "        \n",
    "        end_idx = start_idx + len(gold_text)        \n",
    "        answer['answer_end'] = end_idx\n",
    "        \n",
    "        # Make sure the corresponding context matches the actual answer\n",
    "        assert context[start_idx:end_idx] == gold_text\n",
    "        \n",
    "        fixed_answers.append(answer)\n",
    "    \n",
    "    return fixed_answers, contexts\n",
    "\n",
    "train_questions = dataset[\"train\"][\"question\"]\n",
    "print(\"Training data corrections\")\n",
    "train_answers, train_contexts = compute_end_index(\n",
    "    dataset[\"train\"][\"answers\"], dataset[\"train\"][\"context\"]\n",
    ")\n",
    "test_questions = dataset[\"validation\"][\"question\"]\n",
    "print(\"\\nValidation data correction\")\n",
    "test_answers, test_contexts = compute_end_index(\n",
    "    dataset[\"validation\"][\"answers\"], dataset[\"validation\"][\"context\"]\n",
    ")"
   ]
  },
  {
   "cell_type": "markdown",
   "metadata": {},
   "source": [
    "## Question answering with Bert\n",
    "\n",
    "Now we will start our way to train a question answering model. The pretrained model we'll be using is [Bert](https://arxiv.org/pdf/1810.04805.pdf).\n",
    "\n",
    "---\n",
    "*Transformer architecture in detail*\n",
    "\n",
    "![Transformer architecture in detail](notebook_images/10_03.png)\n",
    "\n",
    "---\n",
    "*BERT for question answering*\n",
    "\n",
    "![BERT for QA](notebook_images/10_11.png)"
   ]
  },
  {
   "cell_type": "markdown",
   "metadata": {},
   "source": [
    "### Defining the tokenizer"
   ]
  },
  {
   "cell_type": "code",
   "execution_count": 5,
   "metadata": {},
   "outputs": [],
   "source": [
    "from transformers import BertTokenizerFast\n",
    "tokenizer = BertTokenizerFast.from_pretrained('bert-base-uncased')"
   ]
  },
  {
   "cell_type": "markdown",
   "metadata": {},
   "source": [
    "### Convert some text to tokens with the tokenizer"
   ]
  },
  {
   "cell_type": "code",
   "execution_count": 6,
   "metadata": {},
   "outputs": [
    {
     "name": "stdout",
     "output_type": "stream",
     "text": [
      "{'input_ids': <tf.Tensor: shape=(1, 11), dtype=int32, numpy=\n",
      "array([[ 101, 2023, 2003, 1996, 6123,  102, 2023, 2003, 1996, 3160,  102]],\n",
      "      dtype=int32)>, 'token_type_ids': <tf.Tensor: shape=(1, 11), dtype=int32, numpy=array([[0, 0, 0, 0, 0, 0, 1, 1, 1, 1, 1]], dtype=int32)>, 'attention_mask': <tf.Tensor: shape=(1, 11), dtype=int32, numpy=array([[1, 1, 1, 1, 1, 1, 1, 1, 1, 1, 1]], dtype=int32)>}\n",
      "['[CLS]', 'this', 'is', 'the', 'context', '[SEP]', 'this', 'is', 'the', 'question', '[SEP]']\n"
     ]
    },
    {
     "name": "stderr",
     "output_type": "stream",
     "text": [
      "2022-04-28 08:13:57.077097: I tensorflow/core/platform/cpu_feature_guard.cc:151] This TensorFlow binary is optimized with oneAPI Deep Neural Network Library (oneDNN) to use the following CPU instructions in performance-critical operations:  AVX2 FMA\n",
      "To enable them in other operations, rebuild TensorFlow with the appropriate compiler flags.\n",
      "2022-04-28 08:13:57.077629: I tensorflow/stream_executor/cuda/cuda_gpu_executor.cc:939] successful NUMA node read from SysFS had negative value (-1), but there must be at least one NUMA node, so returning NUMA node zero\n",
      "2022-04-28 08:13:57.078009: I tensorflow/stream_executor/cuda/cuda_gpu_executor.cc:939] successful NUMA node read from SysFS had negative value (-1), but there must be at least one NUMA node, so returning NUMA node zero\n",
      "2022-04-28 08:13:57.078330: I tensorflow/stream_executor/cuda/cuda_gpu_executor.cc:939] successful NUMA node read from SysFS had negative value (-1), but there must be at least one NUMA node, so returning NUMA node zero\n",
      "2022-04-28 08:13:57.475730: I tensorflow/stream_executor/cuda/cuda_gpu_executor.cc:939] successful NUMA node read from SysFS had negative value (-1), but there must be at least one NUMA node, so returning NUMA node zero\n",
      "2022-04-28 08:13:57.476061: I tensorflow/stream_executor/cuda/cuda_gpu_executor.cc:939] successful NUMA node read from SysFS had negative value (-1), but there must be at least one NUMA node, so returning NUMA node zero\n",
      "2022-04-28 08:13:57.476346: I tensorflow/stream_executor/cuda/cuda_gpu_executor.cc:939] successful NUMA node read from SysFS had negative value (-1), but there must be at least one NUMA node, so returning NUMA node zero\n",
      "2022-04-28 08:13:57.476614: I tensorflow/core/common_runtime/gpu/gpu_device.cc:1525] Created device /job:localhost/replica:0/task:0/device:GPU:0 with 6358 MB memory:  -> device: 0, name: NVIDIA GeForce RTX 2070, pci bus id: 0000:01:00.0, compute capability: 7.5\n"
     ]
    }
   ],
   "source": [
    "context = \"This is the context\"\n",
    "question = \"This is the question\"\n",
    "\n",
    "token_ids = tokenizer(context, question, return_tensors='tf')\n",
    "print(token_ids)\n",
    "print(tokenizer.convert_ids_to_tokens(token_ids['input_ids'].numpy()[0]))"
   ]
  },
  {
   "cell_type": "markdown",
   "metadata": {},
   "source": [
    "## Converting the inputs to tokens\n",
    "\n",
    "In adition to converting inputs to tokens and adding special tokens, it will truncate and pad inputs to the maximum length of the sequences defined in the model config. For example, you can check model config with, `tokenizer.model_max_length`."
   ]
  },
  {
   "cell_type": "code",
   "execution_count": 7,
   "metadata": {},
   "outputs": [
    {
     "name": "stdout",
     "output_type": "stream",
     "text": [
      "train_encodings.shape: (87599, 512)\n",
      "test_encodings.shape: (10570, 512)\n"
     ]
    }
   ],
   "source": [
    "# Encode train data\n",
    "# train_encodings -> transformers.tokenization_utils_base.BatchEncoding\n",
    "train_encodings = tokenizer(train_contexts, train_questions, truncation=True, padding=True, return_tensors='tf')\n",
    "print(f\"train_encodings.shape: {train_encodings['input_ids'].shape}\")\n",
    "# Encode test data\n",
    "test_encodings = tokenizer(test_contexts, test_questions, truncation=True, padding=True, return_tensors='tf')\n",
    "print(f\"test_encodings.shape: {test_encodings['input_ids'].shape}\")\n"
   ]
  },
  {
   "cell_type": "markdown",
   "metadata": {},
   "source": [
    "### Dealing with truncated answers\n",
    "\n",
    "In the original dataset the `answer_start` and `answer_end` denote the *character*-level position of the answer. But in the model, since we deal in tokens we need the *token*-level position of the answer. For that, we will use the `char_to_token` function in the tokenizer. It will convert the character index to a token index.\n",
    "\n",
    "Because we are enforcing a maximum sequence length of 512, some answers will be inevitably truncated if they are present after the 512th token. Although this is rare, we still need to take care of this as it can result in numerical errors otherwise. Therefore, if the positions are `None` (i.e. couldn't find the answer), it is set to the maximum position."
   ]
  },
  {
   "cell_type": "code",
   "execution_count": 8,
   "metadata": {},
   "outputs": [
    {
     "name": "stdout",
     "output_type": "stream",
     "text": [
      "10/87599 had answers truncated\n",
      "8/10570 had answers truncated\n"
     ]
    }
   ],
   "source": [
    "def replace_char_with_token_indices(encodings, answers):\n",
    "    start_positions = []\n",
    "    end_positions = []\n",
    "    n_updates = 0\n",
    "    # Go through all the answers\n",
    "    for i in range(len(answers)):        \n",
    "        \n",
    "        # Get the token position for both start end char positions\n",
    "        start_positions.append(encodings.char_to_token(i, answers[i]['answer_start']))\n",
    "        end_positions.append(encodings.char_to_token(i, answers[i]['answer_end'] - 1))\n",
    "        \n",
    "        if start_positions[-1] is None or end_positions[-1] is None:\n",
    "            n_updates += 1\n",
    "        # if start position is None, the answer passage has been truncated\n",
    "        # In the guide, https://huggingface.co/transformers/custom_datasets.html#qa-squad\n",
    "        # they set it to model_max_length, but this will result in NaN losses as the last\n",
    "        # available label is model_max_length-1 (zero-indexed)\n",
    "        if start_positions[-1] is None:\n",
    "            start_positions[-1] = tokenizer.model_max_length -1\n",
    "            \n",
    "        if end_positions[-1] is None:\n",
    "            end_positions[-1] = tokenizer.model_max_length -1\n",
    "            \n",
    "    print(f\"{n_updates}/{len(answers)} had answers truncated\")\n",
    "    encodings.update({'start_positions': start_positions, 'end_positions': end_positions})\n",
    "\n",
    "replace_char_with_token_indices(train_encodings, train_answers)\n",
    "replace_char_with_token_indices(test_encodings, test_answers)"
   ]
  },
  {
   "cell_type": "markdown",
   "metadata": {},
   "source": [
    "### Creating TensorFlow dataset"
   ]
  },
  {
   "cell_type": "code",
   "execution_count": 9,
   "metadata": {},
   "outputs": [
    {
     "name": "stdout",
     "output_type": "stream",
     "text": [
      "Creating train data\n",
      "\tDone\n",
      "Creating test data\n",
      "\tDone\n"
     ]
    }
   ],
   "source": [
    "import tensorflow as tf\n",
    "from functools import partial\n",
    "\n",
    "train_batch_size = 4\n",
    "test_batch_size = 8\n",
    "\n",
    "def data_gen(input_ids, attention_mask, start_positions, end_positions):\n",
    "    \"\"\" Generator for data \"\"\"\n",
    "    for inps, attn, start_pos, end_pos in zip(input_ids, attention_mask, start_positions, end_positions):\n",
    "        \n",
    "        yield (inps, attn), (start_pos, end_pos)\n",
    "        \n",
    "print(\"Creating train data\")\n",
    "\n",
    "# Define the generator as a callable (not the generator it self)\n",
    "train_data_gen = partial(data_gen,\n",
    "    input_ids=train_encodings['input_ids'], attention_mask=train_encodings['attention_mask'],\n",
    "    start_positions=train_encodings['start_positions'], end_positions=train_encodings['end_positions']\n",
    ")\n",
    "\n",
    "# Define the dataset\n",
    "train_dataset = tf.data.Dataset.from_generator(\n",
    "    train_data_gen, output_types=(('int32', 'int32'), ('int32', 'int32'))\n",
    ")\n",
    "# Shuffling the data\n",
    "train_dataset = train_dataset.shuffle(1000)\n",
    "print('\\tDone')\n",
    "\n",
    "# Valid set is taken as the first 10000 samples in the shuffled set\n",
    "valid_dataset = train_dataset.take(10000)\n",
    "valid_dataset = valid_dataset.batch(train_batch_size)\n",
    "\n",
    "# Rest is kept as the training data\n",
    "train_dataset = train_dataset.skip(10000)\n",
    "train_dataset = train_dataset.batch(train_batch_size)\n",
    "\n",
    "# Creating test data\n",
    "print(\"Creating test data\")\n",
    "\n",
    "# Define the generator as a callable\n",
    "test_data_gen = partial(data_gen,\n",
    "    input_ids=test_encodings['input_ids'], attention_mask=test_encodings['attention_mask'],\n",
    "    start_positions=test_encodings['start_positions'], end_positions=test_encodings['end_positions']\n",
    ")\n",
    "test_dataset = tf.data.Dataset.from_generator(\n",
    "    test_data_gen, output_types=(('int32', 'int32'), ('int32', 'int32'))\n",
    ")\n",
    "test_dataset = test_dataset.batch(test_batch_size)\n",
    "print(\"\\tDone\")"
   ]
  },
  {
   "cell_type": "markdown",
   "metadata": {},
   "source": [
    "### Defining the model\n",
    "\n",
    "Here we define a DistilBert model (particularly a TF variant)"
   ]
  },
  {
   "cell_type": "code",
   "execution_count": 10,
   "metadata": {},
   "outputs": [
    {
     "name": "stdout",
     "output_type": "stream",
     "text": [
      "BertConfig {\n",
      "  \"architectures\": [\n",
      "    \"BertForMaskedLM\"\n",
      "  ],\n",
      "  \"attention_probs_dropout_prob\": 0.1,\n",
      "  \"classifier_dropout\": null,\n",
      "  \"gradient_checkpointing\": false,\n",
      "  \"hidden_act\": \"gelu\",\n",
      "  \"hidden_dropout_prob\": 0.1,\n",
      "  \"hidden_size\": 768,\n",
      "  \"initializer_range\": 0.02,\n",
      "  \"intermediate_size\": 3072,\n",
      "  \"layer_norm_eps\": 1e-12,\n",
      "  \"max_position_embeddings\": 512,\n",
      "  \"model_type\": \"bert\",\n",
      "  \"num_attention_heads\": 12,\n",
      "  \"num_hidden_layers\": 12,\n",
      "  \"pad_token_id\": 0,\n",
      "  \"position_embedding_type\": \"absolute\",\n",
      "  \"return_dict\": false,\n",
      "  \"transformers_version\": \"4.15.0\",\n",
      "  \"type_vocab_size\": 2,\n",
      "  \"use_cache\": true,\n",
      "  \"vocab_size\": 30522\n",
      "}\n",
      "\n"
     ]
    },
    {
     "name": "stderr",
     "output_type": "stream",
     "text": [
      "All model checkpoint layers were used when initializing TFBertForQuestionAnswering.\n",
      "\n",
      "Some layers of TFBertForQuestionAnswering were not initialized from the model checkpoint at bert-base-uncased and are newly initialized: ['qa_outputs']\n",
      "You should probably TRAIN this model on a down-stream task to be able to use it for predictions and inference.\n"
     ]
    }
   ],
   "source": [
    "from transformers import BertConfig,  TFBertForQuestionAnswering\n",
    "\n",
    "config = BertConfig.from_pretrained(\"bert-base-uncased\", return_dict=False)\n",
    "print(config)\n",
    "model =  TFBertForQuestionAnswering.from_pretrained(\"bert-base-uncased\", config=config)\n",
    "\n",
    "def tf_wrap_model(model):\n",
    "    \"\"\" Wraps the huggingface's model with in the Keras Functional API \"\"\"\n",
    "    \n",
    "    # If this is not wrapped in a keras model by taking the correct tensors from\n",
    "    # TFQuestionAnsweringModelOutput produced, you will get the following error\n",
    "    # setting return_dict did not seem to work as it should\n",
    "    \n",
    "    # TypeError: The two structures don't have the same sequence type. \n",
    "    # Input structure has type <class 'tuple'>, while shallow structure has type \n",
    "    # <class 'transformers.modeling_tf_outputs.TFQuestionAnsweringModelOutput'>.\n",
    "    \n",
    "    # Define inputs\n",
    "    input_ids = tf.keras.layers.Input([None,], dtype=tf.int32, name=\"input_ids\")\n",
    "    attention_mask = tf.keras.layers.Input([None,], dtype=tf.int32, name=\"attention_mask\")\n",
    "    \n",
    "    # Define the output (TFQuestionAnsweringModelOutput)\n",
    "    out = model([input_ids, attention_mask])\n",
    "    \n",
    "    # Get the correct attributes in the produced object to generate an output tuple\n",
    "    wrap_model = tf.keras.models.Model([input_ids, attention_mask], outputs=(out.start_logits, out.end_logits))\n",
    "    \n",
    "    return wrap_model\n",
    "\n",
    "\n",
    "# Define and compile the model\n",
    "\n",
    "# Keras will assign a separate loss for each output and add them together. So we'll just use the standard CE loss\n",
    "# instead of using the built-in model.compute_loss, which expects a dict of outputs and averages the two terms.\n",
    "# Note that this means the loss will be 2x of when using TFTrainer since we're adding instead of averaging them.\n",
    "loss = tf.keras.losses.SparseCategoricalCrossentropy(from_logits=True)\n",
    "acc = tf.keras.metrics.SparseCategoricalAccuracy()\n",
    "optimizer = tf.keras.optimizers.Adam(learning_rate=1e-5)\n",
    "\n",
    "model_v2 = tf_wrap_model(model)\n",
    "model_v2.compile(optimizer=optimizer, loss=loss, metrics=[acc])\n"
   ]
  },
  {
   "cell_type": "markdown",
   "metadata": {},
   "source": [
    "### Training the model"
   ]
  },
  {
   "cell_type": "code",
   "execution_count": 11,
   "metadata": {},
   "outputs": [
    {
     "name": "stdout",
     "output_type": "stream",
     "text": [
      "Epoch 1/2\n",
      "19400/19400 [==============================] - 7175s 369ms/step - loss: 2.7193 - tf_bert_for_question_answering_loss: 1.4153 - tf_bert_for_question_answering_1_loss: 1.3040 - tf_bert_for_question_answering_sparse_categorical_accuracy: 0.5975 - tf_bert_for_question_answering_1_sparse_categorical_accuracy: 0.6376 - val_loss: 2.1615 - val_tf_bert_for_question_answering_loss: 1.0898 - val_tf_bert_for_question_answering_1_loss: 1.0717 - val_tf_bert_for_question_answering_sparse_categorical_accuracy: 0.7120 - val_tf_bert_for_question_answering_1_sparse_categorical_accuracy: 0.7350\n",
      "Epoch 2/2\n",
      "19400/19400 [==============================] - 7192s 370ms/step - loss: 1.6691 - tf_bert_for_question_answering_loss: 0.8865 - tf_bert_for_question_answering_1_loss: 0.7826 - tf_bert_for_question_answering_sparse_categorical_accuracy: 0.7245 - tf_bert_for_question_answering_1_sparse_categorical_accuracy: 0.7646 - val_loss: 2.1836 - val_tf_bert_for_question_answering_loss: 1.0988 - val_tf_bert_for_question_answering_1_loss: 1.0847 - val_tf_bert_for_question_answering_sparse_categorical_accuracy: 0.7289 - val_tf_bert_for_question_answering_1_sparse_categorical_accuracy: 0.7504\n",
      "It took 14366.591783046722 seconds to complete the training\n"
     ]
    }
   ],
   "source": [
    "import time\n",
    "\n",
    "t1 = time.time()\n",
    "\n",
    "model_v2.fit(\n",
    "    train_dataset, \n",
    "    validation_data=valid_dataset,    \n",
    "    epochs=2\n",
    ")\n",
    "\n",
    "t2 = time.time()\n",
    "\n",
    "print(f\"It took {t2-t1} seconds to complete the training\")"
   ]
  },
  {
   "cell_type": "markdown",
   "metadata": {},
   "source": [
    "### Save the model"
   ]
  },
  {
   "cell_type": "code",
   "execution_count": 12,
   "metadata": {},
   "outputs": [
    {
     "name": "stdout",
     "output_type": "stream",
     "text": [
      "Model: \"model\"\n",
      "__________________________________________________________________________________________________\n",
      " Layer (type)                   Output Shape         Param #     Connected to                     \n",
      "==================================================================================================\n",
      " input_ids (InputLayer)         [(None, None)]       0           []                               \n",
      "                                                                                                  \n",
      " attention_mask (InputLayer)    [(None, None)]       0           []                               \n",
      "                                                                                                  \n",
      " tf_bert_for_question_answering  TFQuestionAnswering  108893186  ['input_ids[0][0]',              \n",
      "  (TFBertForQuestionAnswering)  ModelOutput(loss=No               'attention_mask[0][0]']         \n",
      "                                ne, start_logits=(N                                               \n",
      "                                one, None),                                                       \n",
      "                                 end_logits=(None,                                                \n",
      "                                None),                                                            \n",
      "                                 hidden_states=None                                               \n",
      "                                , attentions=None)                                                \n",
      "                                                                                                  \n",
      "==================================================================================================\n",
      "Total params: 108,893,186\n",
      "Trainable params: 108,893,186\n",
      "Non-trainable params: 0\n",
      "__________________________________________________________________________________________________\n",
      "None\n"
     ]
    }
   ],
   "source": [
    "print(model_v2.summary())"
   ]
  },
  {
   "cell_type": "markdown",
   "metadata": {},
   "source": [
    "**Note**: We cannot save `model_v2` as is, because it raises an error about not finding config for the transformer model layer. THerefore, we will save just the transformer model layer, so that we can call the `tf_wrap_model()` function anytime and get the wrapped model. "
   ]
  },
  {
   "cell_type": "code",
   "execution_count": 13,
   "metadata": {},
   "outputs": [
    {
     "data": {
      "text/plain": [
       "('tokenizers/bert_qa/tokenizer_config.json',\n",
       " 'tokenizers/bert_qa/special_tokens_map.json',\n",
       " 'tokenizers/bert_qa/vocab.txt',\n",
       " 'tokenizers/bert_qa/added_tokens.json',\n",
       " 'tokenizers/bert_qa/tokenizer.json')"
      ]
     },
     "execution_count": 13,
     "metadata": {},
     "output_type": "execute_result"
    }
   ],
   "source": [
    "import os\n",
    "\n",
    "# Create folders\n",
    "if not os.path.exists('models'):\n",
    "    os.makedirs('models')\n",
    "if not os.path.exists('tokenizers'):\n",
    "    os.makedirs('tokenizers')\n",
    "    \n",
    "# Save the modle\n",
    "model_v2.get_layer(\"tf_bert_for_question_answering\").save_pretrained(os.path.join('models', 'bert_qa'))\n",
    "\n",
    "# Save the tokenizer\n",
    "tokenizer.save_pretrained(os.path.join('tokenizers', 'bert_qa'))\n",
    "\n"
   ]
  },
  {
   "cell_type": "markdown",
   "metadata": {},
   "source": [
    "### Testing on unseen data"
   ]
  },
  {
   "cell_type": "code",
   "execution_count": 14,
   "metadata": {},
   "outputs": [
    {
     "name": "stdout",
     "output_type": "stream",
     "text": [
      "1322/1322 [==============================] - 345s 261ms/step - loss: 2.2205 - tf_bert_for_question_answering_loss: 1.1325 - tf_bert_for_question_answering_1_loss: 1.0881 - tf_bert_for_question_answering_sparse_categorical_accuracy: 0.6968 - tf_bert_for_question_answering_1_sparse_categorical_accuracy: 0.7250\n"
     ]
    },
    {
     "data": {
      "text/plain": [
       "[2.2205309867858887,\n",
       " 1.1324760913848877,\n",
       " 1.088051199913025,\n",
       " 0.6967833638191223,\n",
       " 0.7249763607978821]"
      ]
     },
     "execution_count": 14,
     "metadata": {},
     "output_type": "execute_result"
    }
   ],
   "source": [
    "model_v2.evaluate(test_dataset)"
   ]
  },
  {
   "cell_type": "markdown",
   "metadata": {},
   "source": [
    "## Ask BERT a question ..."
   ]
  },
  {
   "cell_type": "code",
   "execution_count": 15,
   "metadata": {},
   "outputs": [
    {
     "name": "stdout",
     "output_type": "stream",
     "text": [
      "Question\n",
      "\t What is the AFC short for? \n",
      "\n",
      "Context\n",
      "\t Super Bowl 50 was an American football game to determine the champion of the National Football League (NFL) for the 2015 season. The American Football Conference (AFC) champion Denver Broncos defeated the National Football Conference (NFC) champion Carolina Panthers 24–10 to earn their third Super Bowl title. The game was played on February 7, 2016, at Levi's Stadium in the San Francisco Bay Area at Santa Clara, California. As this was the 50th Super Bowl, the league emphasized the \"golden anniversary\" with various gold-themed initiatives, as well as temporarily suspending the tradition of naming each Super Bowl game with Roman numerals (under which the game would have been known as \"Super Bowl L\"), so that the logo could prominently feature the Arabic numerals 50. \n",
      "\n",
      "Answer (char indexed)\n",
      "\t {'text': 'American Football Conference', 'answer_start': 133, 'answer_end': 161} \n",
      "\n",
      "================================================== \n",
      "\n",
      "27-29 token ids contain the answer\n",
      "Answer (predicted)\n",
      "american football conference\n",
      "================================================== \n",
      "\n"
     ]
    }
   ],
   "source": [
    "i = 7\n",
    "\n",
    "# Define sample question\n",
    "sample_q = test_questions[i]\n",
    "# Define sample context\n",
    "sample_c = test_contexts[i]\n",
    "# Define sample answer \n",
    "sample_a = test_answers[i]\n",
    "\n",
    "# Get the input in the format BERT accepts\n",
    "sample_input = (test_encodings[\"input_ids\"][i:i+1], test_encodings[\"attention_mask\"][i:i+1])\n",
    "\n",
    "def ask_bert(sample_input, tokenizer, model):\n",
    "    \"\"\" This function takes an input, a tokenizer, a model and returns the prediciton \"\"\"\n",
    "    out = model.predict(sample_input)\n",
    "    pred_ans_start = tf.argmax(out[0][0])\n",
    "    pred_ans_end = tf.argmax(out[1][0])\n",
    "    print(f\"{pred_ans_start}-{pred_ans_end} token ids contain the answer\")\n",
    "    ans_tokens = sample_input[0][0][pred_ans_start:pred_ans_end+1]\n",
    "    \n",
    "    return \" \".join(tokenizer.convert_ids_to_tokens(ans_tokens))\n",
    "\n",
    "print(\"Question\")\n",
    "print(\"\\t\", sample_q, \"\\n\")\n",
    "print(\"Context\")\n",
    "print(\"\\t\", sample_c, \"\\n\")\n",
    "print(\"Answer (char indexed)\")\n",
    "print(\"\\t\", sample_a, \"\\n\")\n",
    "print('='*50,'\\n')\n",
    "\n",
    "sample_pred_ans = ask_bert(sample_input, tokenizer, model_v2)\n",
    "\n",
    "print(\"Answer (predicted)\")\n",
    "print(sample_pred_ans)\n",
    "print('='*50,'\\n')"
   ]
  },
  {
   "cell_type": "code",
   "execution_count": null,
   "metadata": {},
   "outputs": [],
   "source": []
  }
 ],
 "metadata": {
  "kernelspec": {
   "display_name": "Python 3 (ipykernel)",
   "language": "python",
   "name": "python3"
  },
  "language_info": {
   "codemirror_mode": {
    "name": "ipython",
    "version": 3
   },
   "file_extension": ".py",
   "mimetype": "text/x-python",
   "name": "python",
   "nbconvert_exporter": "python",
   "pygments_lexer": "ipython3",
   "version": "3.8.10"
  }
 },
 "nbformat": 4,
 "nbformat_minor": 4
}
